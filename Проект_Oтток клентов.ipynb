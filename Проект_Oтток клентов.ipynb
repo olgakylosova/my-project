{
 "cells": [
  {
   "cell_type": "markdown",
   "metadata": {
    "toc": true
   },
   "source": [
    "<h1>Содержание<span class=\"tocSkip\"></span></h1>\n",
    "<div class=\"toc\"><ul class=\"toc-item\"><li><span><a href=\"#Подготовка-данных\" data-toc-modified-id=\"Подготовка-данных-1\"><span class=\"toc-item-num\">1&nbsp;&nbsp;</span>Подготовка данных</a></span></li><li><span><a href=\"#Исследование-задачи\" data-toc-modified-id=\"Исследование-задачи-2\"><span class=\"toc-item-num\">2&nbsp;&nbsp;</span>Исследование задачи</a></span></li><li><span><a href=\"#Борьба-с-дисбалансом\" data-toc-modified-id=\"Борьба-с-дисбалансом-3\"><span class=\"toc-item-num\">3&nbsp;&nbsp;</span>Борьба с дисбалансом</a></span></li><li><span><a href=\"#Тестирование-модели\" data-toc-modified-id=\"Тестирование-модели-4\"><span class=\"toc-item-num\">4&nbsp;&nbsp;</span>Тестирование модели</a></span></li><li><span><a href=\"#Чек-лист-готовности-проекта\" data-toc-modified-id=\"Чек-лист-готовности-проекта-5\"><span class=\"toc-item-num\">5&nbsp;&nbsp;</span>Чек-лист готовности проекта</a></span></li></ul></div>"
   ]
  },
  {
   "cell_type": "markdown",
   "metadata": {},
   "source": [
    "# Отток клиентов"
   ]
  },
  {
   "cell_type": "markdown",
   "metadata": {},
   "source": [
    "Из «Бета-Банка» стали уходить клиенты. Каждый месяц. Немного, но заметно. Банковские маркетологи посчитали: сохранять текущих клиентов дешевле, чем привлекать новых.\n",
    "\n",
    "Нужно спрогнозировать, уйдёт клиент из банка в ближайшее время или нет. Вам предоставлены исторические данные о поведении клиентов и расторжении договоров с банком. \n",
    "\n",
    "Постройте модель с предельно большим значением *F1*-меры. Чтобы сдать проект успешно, нужно довести метрику до 0.59. Проверьте *F1*-меру на тестовой выборке самостоятельно.\n",
    "\n",
    "Дополнительно измеряйте *AUC-ROC*, сравнивайте её значение с *F1*-мерой.\n",
    "\n",
    "Источник данных: [https://www.kaggle.com/barelydedicated/bank-customer-churn-modeling](https://www.kaggle.com/barelydedicated/bank-customer-churn-modeling)"
   ]
  },
  {
   "cell_type": "markdown",
   "metadata": {},
   "source": [
    " *Описание данных:*\n",
    "\n",
    "- `RowNumber` — индекс строки в данных;\n",
    "- `CustomerId` — уникальный идентификатор клиента;\n",
    "- `Surname` — фамилия;\n",
    "- `CreditScore` — кредитный рейтинг;\n",
    "- `Geography` — страна проживания;\n",
    "- `Gender` — пол;\n",
    "- `Age` — возраст;\n",
    "- `Tenure` — сколько лет человек является клиентом банка;\n",
    "- `Balance` — баланс на счёте;\n",
    "- `NumOfProducts` — количество продуктов банка, используемых клиентом;\n",
    "- `HasCrCard` — наличие кредитной карты;\n",
    "- `IsActiveMember` — активность клиента;\n",
    "- `EstimatedSalary` — предполагаемая зарплата;\n",
    "\n",
    " *Целевой признак:*\n",
    "- `Exited` — факт ухода клиента."
   ]
  },
  {
   "cell_type": "markdown",
   "metadata": {},
   "source": [
    "## Подготовка данных"
   ]
  },
  {
   "cell_type": "code",
   "execution_count": 1,
   "metadata": {},
   "outputs": [],
   "source": [
    "import pandas as pd\n",
    "import numpy as np\n",
    "import matplotlib.pyplot as plt\n",
    "import seaborn as sb\n",
    "\n",
    "from sklearn.model_selection import train_test_split, RandomizedSearchCV\n",
    "from sklearn.preprocessing import StandardScaler\n",
    "from sklearn.metrics import f1_score, roc_auc_score\n",
    "from sklearn.utils import shuffle\n",
    "\n",
    "from sklearn.tree import DecisionTreeClassifier\n",
    "from sklearn.ensemble import RandomForestClassifier\n",
    "from sklearn.linear_model import LogisticRegression"
   ]
  },
  {
   "cell_type": "code",
   "execution_count": 2,
   "metadata": {},
   "outputs": [
    {
     "data": {
      "text/html": [
       "<div>\n",
       "<style scoped>\n",
       "    .dataframe tbody tr th:only-of-type {\n",
       "        vertical-align: middle;\n",
       "    }\n",
       "\n",
       "    .dataframe tbody tr th {\n",
       "        vertical-align: top;\n",
       "    }\n",
       "\n",
       "    .dataframe thead th {\n",
       "        text-align: right;\n",
       "    }\n",
       "</style>\n",
       "<table border=\"1\" class=\"dataframe\">\n",
       "  <thead>\n",
       "    <tr style=\"text-align: right;\">\n",
       "      <th></th>\n",
       "      <th>RowNumber</th>\n",
       "      <th>CustomerId</th>\n",
       "      <th>Surname</th>\n",
       "      <th>CreditScore</th>\n",
       "      <th>Geography</th>\n",
       "      <th>Gender</th>\n",
       "      <th>Age</th>\n",
       "      <th>Tenure</th>\n",
       "      <th>Balance</th>\n",
       "      <th>NumOfProducts</th>\n",
       "      <th>HasCrCard</th>\n",
       "      <th>IsActiveMember</th>\n",
       "      <th>EstimatedSalary</th>\n",
       "      <th>Exited</th>\n",
       "    </tr>\n",
       "  </thead>\n",
       "  <tbody>\n",
       "    <tr>\n",
       "      <th>0</th>\n",
       "      <td>1</td>\n",
       "      <td>15634602</td>\n",
       "      <td>Hargrave</td>\n",
       "      <td>619</td>\n",
       "      <td>France</td>\n",
       "      <td>Female</td>\n",
       "      <td>42</td>\n",
       "      <td>2.0</td>\n",
       "      <td>0.00</td>\n",
       "      <td>1</td>\n",
       "      <td>1</td>\n",
       "      <td>1</td>\n",
       "      <td>101348.88</td>\n",
       "      <td>1</td>\n",
       "    </tr>\n",
       "    <tr>\n",
       "      <th>1</th>\n",
       "      <td>2</td>\n",
       "      <td>15647311</td>\n",
       "      <td>Hill</td>\n",
       "      <td>608</td>\n",
       "      <td>Spain</td>\n",
       "      <td>Female</td>\n",
       "      <td>41</td>\n",
       "      <td>1.0</td>\n",
       "      <td>83807.86</td>\n",
       "      <td>1</td>\n",
       "      <td>0</td>\n",
       "      <td>1</td>\n",
       "      <td>112542.58</td>\n",
       "      <td>0</td>\n",
       "    </tr>\n",
       "    <tr>\n",
       "      <th>2</th>\n",
       "      <td>3</td>\n",
       "      <td>15619304</td>\n",
       "      <td>Onio</td>\n",
       "      <td>502</td>\n",
       "      <td>France</td>\n",
       "      <td>Female</td>\n",
       "      <td>42</td>\n",
       "      <td>8.0</td>\n",
       "      <td>159660.80</td>\n",
       "      <td>3</td>\n",
       "      <td>1</td>\n",
       "      <td>0</td>\n",
       "      <td>113931.57</td>\n",
       "      <td>1</td>\n",
       "    </tr>\n",
       "    <tr>\n",
       "      <th>3</th>\n",
       "      <td>4</td>\n",
       "      <td>15701354</td>\n",
       "      <td>Boni</td>\n",
       "      <td>699</td>\n",
       "      <td>France</td>\n",
       "      <td>Female</td>\n",
       "      <td>39</td>\n",
       "      <td>1.0</td>\n",
       "      <td>0.00</td>\n",
       "      <td>2</td>\n",
       "      <td>0</td>\n",
       "      <td>0</td>\n",
       "      <td>93826.63</td>\n",
       "      <td>0</td>\n",
       "    </tr>\n",
       "    <tr>\n",
       "      <th>4</th>\n",
       "      <td>5</td>\n",
       "      <td>15737888</td>\n",
       "      <td>Mitchell</td>\n",
       "      <td>850</td>\n",
       "      <td>Spain</td>\n",
       "      <td>Female</td>\n",
       "      <td>43</td>\n",
       "      <td>2.0</td>\n",
       "      <td>125510.82</td>\n",
       "      <td>1</td>\n",
       "      <td>1</td>\n",
       "      <td>1</td>\n",
       "      <td>79084.10</td>\n",
       "      <td>0</td>\n",
       "    </tr>\n",
       "    <tr>\n",
       "      <th>5</th>\n",
       "      <td>6</td>\n",
       "      <td>15574012</td>\n",
       "      <td>Chu</td>\n",
       "      <td>645</td>\n",
       "      <td>Spain</td>\n",
       "      <td>Male</td>\n",
       "      <td>44</td>\n",
       "      <td>8.0</td>\n",
       "      <td>113755.78</td>\n",
       "      <td>2</td>\n",
       "      <td>1</td>\n",
       "      <td>0</td>\n",
       "      <td>149756.71</td>\n",
       "      <td>1</td>\n",
       "    </tr>\n",
       "    <tr>\n",
       "      <th>6</th>\n",
       "      <td>7</td>\n",
       "      <td>15592531</td>\n",
       "      <td>Bartlett</td>\n",
       "      <td>822</td>\n",
       "      <td>France</td>\n",
       "      <td>Male</td>\n",
       "      <td>50</td>\n",
       "      <td>7.0</td>\n",
       "      <td>0.00</td>\n",
       "      <td>2</td>\n",
       "      <td>1</td>\n",
       "      <td>1</td>\n",
       "      <td>10062.80</td>\n",
       "      <td>0</td>\n",
       "    </tr>\n",
       "    <tr>\n",
       "      <th>7</th>\n",
       "      <td>8</td>\n",
       "      <td>15656148</td>\n",
       "      <td>Obinna</td>\n",
       "      <td>376</td>\n",
       "      <td>Germany</td>\n",
       "      <td>Female</td>\n",
       "      <td>29</td>\n",
       "      <td>4.0</td>\n",
       "      <td>115046.74</td>\n",
       "      <td>4</td>\n",
       "      <td>1</td>\n",
       "      <td>0</td>\n",
       "      <td>119346.88</td>\n",
       "      <td>1</td>\n",
       "    </tr>\n",
       "    <tr>\n",
       "      <th>8</th>\n",
       "      <td>9</td>\n",
       "      <td>15792365</td>\n",
       "      <td>He</td>\n",
       "      <td>501</td>\n",
       "      <td>France</td>\n",
       "      <td>Male</td>\n",
       "      <td>44</td>\n",
       "      <td>4.0</td>\n",
       "      <td>142051.07</td>\n",
       "      <td>2</td>\n",
       "      <td>0</td>\n",
       "      <td>1</td>\n",
       "      <td>74940.50</td>\n",
       "      <td>0</td>\n",
       "    </tr>\n",
       "    <tr>\n",
       "      <th>9</th>\n",
       "      <td>10</td>\n",
       "      <td>15592389</td>\n",
       "      <td>H?</td>\n",
       "      <td>684</td>\n",
       "      <td>France</td>\n",
       "      <td>Male</td>\n",
       "      <td>27</td>\n",
       "      <td>2.0</td>\n",
       "      <td>134603.88</td>\n",
       "      <td>1</td>\n",
       "      <td>1</td>\n",
       "      <td>1</td>\n",
       "      <td>71725.73</td>\n",
       "      <td>0</td>\n",
       "    </tr>\n",
       "  </tbody>\n",
       "</table>\n",
       "</div>"
      ],
      "text/plain": [
       "   RowNumber  CustomerId   Surname  CreditScore Geography  Gender  Age  \\\n",
       "0          1    15634602  Hargrave          619    France  Female   42   \n",
       "1          2    15647311      Hill          608     Spain  Female   41   \n",
       "2          3    15619304      Onio          502    France  Female   42   \n",
       "3          4    15701354      Boni          699    France  Female   39   \n",
       "4          5    15737888  Mitchell          850     Spain  Female   43   \n",
       "5          6    15574012       Chu          645     Spain    Male   44   \n",
       "6          7    15592531  Bartlett          822    France    Male   50   \n",
       "7          8    15656148    Obinna          376   Germany  Female   29   \n",
       "8          9    15792365        He          501    France    Male   44   \n",
       "9         10    15592389        H?          684    France    Male   27   \n",
       "\n",
       "   Tenure    Balance  NumOfProducts  HasCrCard  IsActiveMember  \\\n",
       "0     2.0       0.00              1          1               1   \n",
       "1     1.0   83807.86              1          0               1   \n",
       "2     8.0  159660.80              3          1               0   \n",
       "3     1.0       0.00              2          0               0   \n",
       "4     2.0  125510.82              1          1               1   \n",
       "5     8.0  113755.78              2          1               0   \n",
       "6     7.0       0.00              2          1               1   \n",
       "7     4.0  115046.74              4          1               0   \n",
       "8     4.0  142051.07              2          0               1   \n",
       "9     2.0  134603.88              1          1               1   \n",
       "\n",
       "   EstimatedSalary  Exited  \n",
       "0        101348.88       1  \n",
       "1        112542.58       0  \n",
       "2        113931.57       1  \n",
       "3         93826.63       0  \n",
       "4         79084.10       0  \n",
       "5        149756.71       1  \n",
       "6         10062.80       0  \n",
       "7        119346.88       1  \n",
       "8         74940.50       0  \n",
       "9         71725.73       0  "
      ]
     },
     "execution_count": 2,
     "metadata": {},
     "output_type": "execute_result"
    }
   ],
   "source": [
    "df = pd.read_csv('Churn.csv')\n",
    "df.head(10)"
   ]
  },
  {
   "cell_type": "code",
   "execution_count": 3,
   "metadata": {},
   "outputs": [],
   "source": [
    "df.columns = ['row_number', 'customer_id', 'surname', 'credit_score', 'geography',\n",
    "       'gender', 'age', 'tenure', 'balance', 'num_of_products', 'has_crcard',\n",
    "       'is_active_member', 'estimated_salary', 'exited']"
   ]
  },
  {
   "cell_type": "code",
   "execution_count": 4,
   "metadata": {},
   "outputs": [
    {
     "name": "stdout",
     "output_type": "stream",
     "text": [
      "<class 'pandas.core.frame.DataFrame'>\n",
      "RangeIndex: 10000 entries, 0 to 9999\n",
      "Data columns (total 14 columns):\n",
      " #   Column            Non-Null Count  Dtype  \n",
      "---  ------            --------------  -----  \n",
      " 0   row_number        10000 non-null  int64  \n",
      " 1   customer_id       10000 non-null  int64  \n",
      " 2   surname           10000 non-null  object \n",
      " 3   credit_score      10000 non-null  int64  \n",
      " 4   geography         10000 non-null  object \n",
      " 5   gender            10000 non-null  object \n",
      " 6   age               10000 non-null  int64  \n",
      " 7   tenure            9091 non-null   float64\n",
      " 8   balance           10000 non-null  float64\n",
      " 9   num_of_products   10000 non-null  int64  \n",
      " 10  has_crcard        10000 non-null  int64  \n",
      " 11  is_active_member  10000 non-null  int64  \n",
      " 12  estimated_salary  10000 non-null  float64\n",
      " 13  exited            10000 non-null  int64  \n",
      "dtypes: float64(3), int64(8), object(3)\n",
      "memory usage: 1.1+ MB\n"
     ]
    }
   ],
   "source": [
    "df.info()"
   ]
  },
  {
   "cell_type": "code",
   "execution_count": 5,
   "metadata": {},
   "outputs": [
    {
     "data": {
      "text/html": [
       "<div>\n",
       "<style scoped>\n",
       "    .dataframe tbody tr th:only-of-type {\n",
       "        vertical-align: middle;\n",
       "    }\n",
       "\n",
       "    .dataframe tbody tr th {\n",
       "        vertical-align: top;\n",
       "    }\n",
       "\n",
       "    .dataframe thead th {\n",
       "        text-align: right;\n",
       "    }\n",
       "</style>\n",
       "<table border=\"1\" class=\"dataframe\">\n",
       "  <thead>\n",
       "    <tr style=\"text-align: right;\">\n",
       "      <th></th>\n",
       "      <th>row_number</th>\n",
       "      <th>customer_id</th>\n",
       "      <th>credit_score</th>\n",
       "      <th>age</th>\n",
       "      <th>tenure</th>\n",
       "      <th>balance</th>\n",
       "      <th>num_of_products</th>\n",
       "      <th>has_crcard</th>\n",
       "      <th>is_active_member</th>\n",
       "      <th>estimated_salary</th>\n",
       "      <th>exited</th>\n",
       "    </tr>\n",
       "  </thead>\n",
       "  <tbody>\n",
       "    <tr>\n",
       "      <th>count</th>\n",
       "      <td>10,000.00</td>\n",
       "      <td>10,000.00</td>\n",
       "      <td>10,000.00</td>\n",
       "      <td>10,000.00</td>\n",
       "      <td>9,091.00</td>\n",
       "      <td>10,000.00</td>\n",
       "      <td>10,000.00</td>\n",
       "      <td>10,000.00</td>\n",
       "      <td>10,000.00</td>\n",
       "      <td>10,000.00</td>\n",
       "      <td>10,000.00</td>\n",
       "    </tr>\n",
       "    <tr>\n",
       "      <th>mean</th>\n",
       "      <td>5,000.50</td>\n",
       "      <td>15,690,940.57</td>\n",
       "      <td>650.53</td>\n",
       "      <td>38.92</td>\n",
       "      <td>5.00</td>\n",
       "      <td>76,485.89</td>\n",
       "      <td>1.53</td>\n",
       "      <td>0.71</td>\n",
       "      <td>0.52</td>\n",
       "      <td>100,090.24</td>\n",
       "      <td>0.20</td>\n",
       "    </tr>\n",
       "    <tr>\n",
       "      <th>std</th>\n",
       "      <td>2,886.90</td>\n",
       "      <td>71,936.19</td>\n",
       "      <td>96.65</td>\n",
       "      <td>10.49</td>\n",
       "      <td>2.89</td>\n",
       "      <td>62,397.41</td>\n",
       "      <td>0.58</td>\n",
       "      <td>0.46</td>\n",
       "      <td>0.50</td>\n",
       "      <td>57,510.49</td>\n",
       "      <td>0.40</td>\n",
       "    </tr>\n",
       "    <tr>\n",
       "      <th>min</th>\n",
       "      <td>1.00</td>\n",
       "      <td>15,565,701.00</td>\n",
       "      <td>350.00</td>\n",
       "      <td>18.00</td>\n",
       "      <td>0.00</td>\n",
       "      <td>0.00</td>\n",
       "      <td>1.00</td>\n",
       "      <td>0.00</td>\n",
       "      <td>0.00</td>\n",
       "      <td>11.58</td>\n",
       "      <td>0.00</td>\n",
       "    </tr>\n",
       "    <tr>\n",
       "      <th>25%</th>\n",
       "      <td>2,500.75</td>\n",
       "      <td>15,628,528.25</td>\n",
       "      <td>584.00</td>\n",
       "      <td>32.00</td>\n",
       "      <td>2.00</td>\n",
       "      <td>0.00</td>\n",
       "      <td>1.00</td>\n",
       "      <td>0.00</td>\n",
       "      <td>0.00</td>\n",
       "      <td>51,002.11</td>\n",
       "      <td>0.00</td>\n",
       "    </tr>\n",
       "    <tr>\n",
       "      <th>50%</th>\n",
       "      <td>5,000.50</td>\n",
       "      <td>15,690,738.00</td>\n",
       "      <td>652.00</td>\n",
       "      <td>37.00</td>\n",
       "      <td>5.00</td>\n",
       "      <td>97,198.54</td>\n",
       "      <td>1.00</td>\n",
       "      <td>1.00</td>\n",
       "      <td>1.00</td>\n",
       "      <td>100,193.91</td>\n",
       "      <td>0.00</td>\n",
       "    </tr>\n",
       "    <tr>\n",
       "      <th>75%</th>\n",
       "      <td>7,500.25</td>\n",
       "      <td>15,753,233.75</td>\n",
       "      <td>718.00</td>\n",
       "      <td>44.00</td>\n",
       "      <td>7.00</td>\n",
       "      <td>127,644.24</td>\n",
       "      <td>2.00</td>\n",
       "      <td>1.00</td>\n",
       "      <td>1.00</td>\n",
       "      <td>149,388.25</td>\n",
       "      <td>0.00</td>\n",
       "    </tr>\n",
       "    <tr>\n",
       "      <th>max</th>\n",
       "      <td>10,000.00</td>\n",
       "      <td>15,815,690.00</td>\n",
       "      <td>850.00</td>\n",
       "      <td>92.00</td>\n",
       "      <td>10.00</td>\n",
       "      <td>250,898.09</td>\n",
       "      <td>4.00</td>\n",
       "      <td>1.00</td>\n",
       "      <td>1.00</td>\n",
       "      <td>199,992.48</td>\n",
       "      <td>1.00</td>\n",
       "    </tr>\n",
       "  </tbody>\n",
       "</table>\n",
       "</div>"
      ],
      "text/plain": [
       "      row_number    customer_id credit_score        age    tenure     balance  \\\n",
       "count  10,000.00      10,000.00    10,000.00  10,000.00  9,091.00   10,000.00   \n",
       "mean    5,000.50  15,690,940.57       650.53      38.92      5.00   76,485.89   \n",
       "std     2,886.90      71,936.19        96.65      10.49      2.89   62,397.41   \n",
       "min         1.00  15,565,701.00       350.00      18.00      0.00        0.00   \n",
       "25%     2,500.75  15,628,528.25       584.00      32.00      2.00        0.00   \n",
       "50%     5,000.50  15,690,738.00       652.00      37.00      5.00   97,198.54   \n",
       "75%     7,500.25  15,753,233.75       718.00      44.00      7.00  127,644.24   \n",
       "max    10,000.00  15,815,690.00       850.00      92.00     10.00  250,898.09   \n",
       "\n",
       "      num_of_products has_crcard is_active_member estimated_salary     exited  \n",
       "count       10,000.00  10,000.00        10,000.00        10,000.00  10,000.00  \n",
       "mean             1.53       0.71             0.52       100,090.24       0.20  \n",
       "std              0.58       0.46             0.50        57,510.49       0.40  \n",
       "min              1.00       0.00             0.00            11.58       0.00  \n",
       "25%              1.00       0.00             0.00        51,002.11       0.00  \n",
       "50%              1.00       1.00             1.00       100,193.91       0.00  \n",
       "75%              2.00       1.00             1.00       149,388.25       0.00  \n",
       "max              4.00       1.00             1.00       199,992.48       1.00  "
      ]
     },
     "execution_count": 5,
     "metadata": {},
     "output_type": "execute_result"
    }
   ],
   "source": [
    "df.describe().applymap('{:,.2f}'.format)"
   ]
  },
  {
   "cell_type": "code",
   "execution_count": 6,
   "metadata": {},
   "outputs": [
    {
     "data": {
      "text/plain": [
       "0"
      ]
     },
     "execution_count": 6,
     "metadata": {},
     "output_type": "execute_result"
    }
   ],
   "source": [
    "df.duplicated().sum()"
   ]
  },
  {
   "cell_type": "markdown",
   "metadata": {},
   "source": [
    "Т.к. в столбце `Tenure` много пропущенных значений, посмотрим на распредление и есть ли зависисмость с другими столбцами, чтобы заполнить пропуски. "
   ]
  },
  {
   "cell_type": "code",
   "execution_count": 7,
   "metadata": {},
   "outputs": [
    {
     "data": {
      "text/plain": [
       "credit_score       -0.000062\n",
       "age                -0.013134\n",
       "balance            -0.007911\n",
       "num_of_products     0.011979\n",
       "estimated_salary    0.010520\n",
       "Name: tenure, dtype: float64"
      ]
     },
     "execution_count": 7,
     "metadata": {},
     "output_type": "execute_result"
    }
   ],
   "source": [
    "columns = ['credit_score', 'age', 'balance', 'num_of_products', 'estimated_salary']\n",
    "\n",
    "df.corr()['tenure'][columns]"
   ]
  },
  {
   "cell_type": "code",
   "execution_count": 8,
   "metadata": {},
   "outputs": [
    {
     "data": {
      "image/png": "[encoded data removed]",
      "text/plain": [
       "<Figure size 432x288 with 1 Axes>"
      ]
     },
     "metadata": {
      "needs_background": "light"
     },
     "output_type": "display_data"
    }
   ],
   "source": [
    "df['tenure'].hist(bins=11, alpha=0.3)\n",
    "plt.show()"
   ]
  },
  {
   "cell_type": "markdown",
   "metadata": {},
   "source": [
    "Видим, что прямой завсисимости нет(корреляция низкая) и чтобы не повлиять на распределение, заполним случайными числами. "
   ]
  },
  {
   "cell_type": "code",
   "execution_count": 9,
   "metadata": {},
   "outputs": [],
   "source": [
    "data = (np.random.randint(0, 10, size=df['tenure'].isna().sum()))\n",
    "df.loc[df['tenure'].isna(),'tenure'] = data"
   ]
  },
  {
   "cell_type": "code",
   "execution_count": 10,
   "metadata": {},
   "outputs": [
    {
     "data": {
      "image/png": "[encoded data removed]",
      "text/plain": [
       "<Figure size 432x288 with 1 Axes>"
      ]
     },
     "metadata": {
      "needs_background": "light"
     },
     "output_type": "display_data"
    }
   ],
   "source": [
    "df['tenure'].hist(bins=11, alpha=0.3)\n",
    "plt.show()"
   ]
  },
  {
   "cell_type": "markdown",
   "metadata": {},
   "source": [
    "Удалим колонки `row_number`, `customer_id`, `surname`.<br>\n",
    "Предполагаем , что индентификатор и фамилия клиента не влияют на факт ухода клиента."
   ]
  },
  {
   "cell_type": "code",
   "execution_count": 11,
   "metadata": {},
   "outputs": [],
   "source": [
    "df = df.drop(['row_number', 'customer_id', 'surname'], axis=1)"
   ]
  },
  {
   "cell_type": "code",
   "execution_count": 12,
   "metadata": {},
   "outputs": [
    {
     "data": {
      "text/html": [
       "<div>\n",
       "<style scoped>\n",
       "    .dataframe tbody tr th:only-of-type {\n",
       "        vertical-align: middle;\n",
       "    }\n",
       "\n",
       "    .dataframe tbody tr th {\n",
       "        vertical-align: top;\n",
       "    }\n",
       "\n",
       "    .dataframe thead th {\n",
       "        text-align: right;\n",
       "    }\n",
       "</style>\n",
       "<table border=\"1\" class=\"dataframe\">\n",
       "  <thead>\n",
       "    <tr style=\"text-align: right;\">\n",
       "      <th></th>\n",
       "      <th>credit_score</th>\n",
       "      <th>geography</th>\n",
       "      <th>gender</th>\n",
       "      <th>age</th>\n",
       "      <th>tenure</th>\n",
       "      <th>balance</th>\n",
       "      <th>num_of_products</th>\n",
       "      <th>has_crcard</th>\n",
       "      <th>is_active_member</th>\n",
       "      <th>estimated_salary</th>\n",
       "      <th>exited</th>\n",
       "    </tr>\n",
       "  </thead>\n",
       "  <tbody>\n",
       "    <tr>\n",
       "      <th>0</th>\n",
       "      <td>619</td>\n",
       "      <td>France</td>\n",
       "      <td>Female</td>\n",
       "      <td>42</td>\n",
       "      <td>2.0</td>\n",
       "      <td>0.00</td>\n",
       "      <td>1</td>\n",
       "      <td>1</td>\n",
       "      <td>1</td>\n",
       "      <td>101348.88</td>\n",
       "      <td>1</td>\n",
       "    </tr>\n",
       "    <tr>\n",
       "      <th>1</th>\n",
       "      <td>608</td>\n",
       "      <td>Spain</td>\n",
       "      <td>Female</td>\n",
       "      <td>41</td>\n",
       "      <td>1.0</td>\n",
       "      <td>83807.86</td>\n",
       "      <td>1</td>\n",
       "      <td>0</td>\n",
       "      <td>1</td>\n",
       "      <td>112542.58</td>\n",
       "      <td>0</td>\n",
       "    </tr>\n",
       "    <tr>\n",
       "      <th>2</th>\n",
       "      <td>502</td>\n",
       "      <td>France</td>\n",
       "      <td>Female</td>\n",
       "      <td>42</td>\n",
       "      <td>8.0</td>\n",
       "      <td>159660.80</td>\n",
       "      <td>3</td>\n",
       "      <td>1</td>\n",
       "      <td>0</td>\n",
       "      <td>113931.57</td>\n",
       "      <td>1</td>\n",
       "    </tr>\n",
       "    <tr>\n",
       "      <th>3</th>\n",
       "      <td>699</td>\n",
       "      <td>France</td>\n",
       "      <td>Female</td>\n",
       "      <td>39</td>\n",
       "      <td>1.0</td>\n",
       "      <td>0.00</td>\n",
       "      <td>2</td>\n",
       "      <td>0</td>\n",
       "      <td>0</td>\n",
       "      <td>93826.63</td>\n",
       "      <td>0</td>\n",
       "    </tr>\n",
       "    <tr>\n",
       "      <th>4</th>\n",
       "      <td>850</td>\n",
       "      <td>Spain</td>\n",
       "      <td>Female</td>\n",
       "      <td>43</td>\n",
       "      <td>2.0</td>\n",
       "      <td>125510.82</td>\n",
       "      <td>1</td>\n",
       "      <td>1</td>\n",
       "      <td>1</td>\n",
       "      <td>79084.10</td>\n",
       "      <td>0</td>\n",
       "    </tr>\n",
       "  </tbody>\n",
       "</table>\n",
       "</div>"
      ],
      "text/plain": [
       "   credit_score geography  gender  age  tenure    balance  num_of_products  \\\n",
       "0           619    France  Female   42     2.0       0.00                1   \n",
       "1           608     Spain  Female   41     1.0   83807.86                1   \n",
       "2           502    France  Female   42     8.0  159660.80                3   \n",
       "3           699    France  Female   39     1.0       0.00                2   \n",
       "4           850     Spain  Female   43     2.0  125510.82                1   \n",
       "\n",
       "   has_crcard  is_active_member  estimated_salary  exited  \n",
       "0           1                 1         101348.88       1  \n",
       "1           0                 1         112542.58       0  \n",
       "2           1                 0         113931.57       1  \n",
       "3           0                 0          93826.63       0  \n",
       "4           1                 1          79084.10       0  "
      ]
     },
     "execution_count": 12,
     "metadata": {},
     "output_type": "execute_result"
    }
   ],
   "source": [
    "df.head()"
   ]
  },
  {
   "cell_type": "code",
   "execution_count": 13,
   "metadata": {},
   "outputs": [
    {
     "name": "stdout",
     "output_type": "stream",
     "text": [
      "                  geography\n",
      "exited geography           \n",
      "0      France          4204\n",
      "       Germany         1695\n",
      "       Spain           2064\n",
      "1      France           810\n",
      "       Germany          814\n",
      "       Spain            413\n",
      "               gender\n",
      "exited gender        \n",
      "0      Female    3404\n",
      "       Male      4559\n",
      "1      Female    1139\n",
      "       Male       898\n",
      "                        num_of_products\n",
      "exited num_of_products                 \n",
      "0      1                           3675\n",
      "       2                           4242\n",
      "       3                             46\n",
      "1      1                           1409\n",
      "       2                            348\n",
      "       3                            220\n",
      "       4                             60\n",
      "                   has_crcard\n",
      "exited has_crcard            \n",
      "0      0                 2332\n",
      "       1                 5631\n",
      "1      0                  613\n",
      "       1                 1424\n",
      "                         is_active_member\n",
      "exited is_active_member                  \n",
      "0      0                             3547\n",
      "       1                             4416\n",
      "1      0                             1302\n",
      "       1                              735\n"
     ]
    }
   ],
   "source": [
    "columns = ['geography', 'gender', 'num_of_products', 'has_crcard', 'is_active_member']\n",
    "\n",
    "for i in columns:\n",
    "    print(df.groupby(['exited', i]).agg({i:'count'}))"
   ]
  },
  {
   "cell_type": "code",
   "execution_count": 14,
   "metadata": {},
   "outputs": [
    {
     "data": {
      "image/png": "[encoded data removed]",
      "text/plain": [
       "<Figure size 936x1080 with 5 Axes>"
      ]
     },
     "metadata": {
      "needs_background": "light"
     },
     "output_type": "display_data"
    }
   ],
   "source": [
    "plt.figure(figsize=(13,15))\n",
    "for i in range(5):\n",
    "    plt.subplot(3, 2, i+1)\n",
    "    sb.countplot(x=columns[i], hue='exited', data=df, alpha=0.3)\n",
    "    plt.legend([\"not exited\", \"exited\"])\n",
    "plt.show()"
   ]
  },
  {
   "cell_type": "markdown",
   "metadata": {},
   "source": [
    "По графикам видно больше всего клиентов, ушедших из банка:\n",
    "-  из Германии (814 чел.)\n",
    "-  женщин (1139 чел.)\n",
    "-  имеющих 1 банковский продукт (1409 чел.)\n",
    "-  имеющих кредитную карту (1424 чел.)\n",
    "-  не активный клиент (1302 чел.)"
   ]
  },
  {
   "cell_type": "markdown",
   "metadata": {},
   "source": [
    "## Исследование задачи"
   ]
  },
  {
   "cell_type": "code",
   "execution_count": 15,
   "metadata": {},
   "outputs": [],
   "source": [
    "df_ohe = pd.get_dummies(df, drop_first=True) "
   ]
  },
  {
   "cell_type": "code",
   "execution_count": 16,
   "metadata": {},
   "outputs": [
    {
     "data": {
      "text/html": [
       "<div>\n",
       "<style scoped>\n",
       "    .dataframe tbody tr th:only-of-type {\n",
       "        vertical-align: middle;\n",
       "    }\n",
       "\n",
       "    .dataframe tbody tr th {\n",
       "        vertical-align: top;\n",
       "    }\n",
       "\n",
       "    .dataframe thead th {\n",
       "        text-align: right;\n",
       "    }\n",
       "</style>\n",
       "<table border=\"1\" class=\"dataframe\">\n",
       "  <thead>\n",
       "    <tr style=\"text-align: right;\">\n",
       "      <th></th>\n",
       "      <th>credit_score</th>\n",
       "      <th>age</th>\n",
       "      <th>tenure</th>\n",
       "      <th>balance</th>\n",
       "      <th>num_of_products</th>\n",
       "      <th>has_crcard</th>\n",
       "      <th>is_active_member</th>\n",
       "      <th>estimated_salary</th>\n",
       "      <th>exited</th>\n",
       "      <th>geography_Germany</th>\n",
       "      <th>geography_Spain</th>\n",
       "      <th>gender_Male</th>\n",
       "    </tr>\n",
       "  </thead>\n",
       "  <tbody>\n",
       "    <tr>\n",
       "      <th>0</th>\n",
       "      <td>619</td>\n",
       "      <td>42</td>\n",
       "      <td>2.0</td>\n",
       "      <td>0.00</td>\n",
       "      <td>1</td>\n",
       "      <td>1</td>\n",
       "      <td>1</td>\n",
       "      <td>101348.88</td>\n",
       "      <td>1</td>\n",
       "      <td>0</td>\n",
       "      <td>0</td>\n",
       "      <td>0</td>\n",
       "    </tr>\n",
       "    <tr>\n",
       "      <th>1</th>\n",
       "      <td>608</td>\n",
       "      <td>41</td>\n",
       "      <td>1.0</td>\n",
       "      <td>83807.86</td>\n",
       "      <td>1</td>\n",
       "      <td>0</td>\n",
       "      <td>1</td>\n",
       "      <td>112542.58</td>\n",
       "      <td>0</td>\n",
       "      <td>0</td>\n",
       "      <td>1</td>\n",
       "      <td>0</td>\n",
       "    </tr>\n",
       "    <tr>\n",
       "      <th>2</th>\n",
       "      <td>502</td>\n",
       "      <td>42</td>\n",
       "      <td>8.0</td>\n",
       "      <td>159660.80</td>\n",
       "      <td>3</td>\n",
       "      <td>1</td>\n",
       "      <td>0</td>\n",
       "      <td>113931.57</td>\n",
       "      <td>1</td>\n",
       "      <td>0</td>\n",
       "      <td>0</td>\n",
       "      <td>0</td>\n",
       "    </tr>\n",
       "    <tr>\n",
       "      <th>3</th>\n",
       "      <td>699</td>\n",
       "      <td>39</td>\n",
       "      <td>1.0</td>\n",
       "      <td>0.00</td>\n",
       "      <td>2</td>\n",
       "      <td>0</td>\n",
       "      <td>0</td>\n",
       "      <td>93826.63</td>\n",
       "      <td>0</td>\n",
       "      <td>0</td>\n",
       "      <td>0</td>\n",
       "      <td>0</td>\n",
       "    </tr>\n",
       "    <tr>\n",
       "      <th>4</th>\n",
       "      <td>850</td>\n",
       "      <td>43</td>\n",
       "      <td>2.0</td>\n",
       "      <td>125510.82</td>\n",
       "      <td>1</td>\n",
       "      <td>1</td>\n",
       "      <td>1</td>\n",
       "      <td>79084.10</td>\n",
       "      <td>0</td>\n",
       "      <td>0</td>\n",
       "      <td>1</td>\n",
       "      <td>0</td>\n",
       "    </tr>\n",
       "  </tbody>\n",
       "</table>\n",
       "</div>"
      ],
      "text/plain": [
       "   credit_score  age  tenure    balance  num_of_products  has_crcard  \\\n",
       "0           619   42     2.0       0.00                1           1   \n",
       "1           608   41     1.0   83807.86                1           0   \n",
       "2           502   42     8.0  159660.80                3           1   \n",
       "3           699   39     1.0       0.00                2           0   \n",
       "4           850   43     2.0  125510.82                1           1   \n",
       "\n",
       "   is_active_member  estimated_salary  exited  geography_Germany  \\\n",
       "0                 1         101348.88       1                  0   \n",
       "1                 1         112542.58       0                  0   \n",
       "2                 0         113931.57       1                  0   \n",
       "3                 0          93826.63       0                  0   \n",
       "4                 1          79084.10       0                  0   \n",
       "\n",
       "   geography_Spain  gender_Male  \n",
       "0                0            0  \n",
       "1                1            0  \n",
       "2                0            0  \n",
       "3                0            0  \n",
       "4                1            0  "
      ]
     },
     "execution_count": 16,
     "metadata": {},
     "output_type": "execute_result"
    }
   ],
   "source": [
    "df_ohe.head()"
   ]
  },
  {
   "cell_type": "code",
   "execution_count": 17,
   "metadata": {},
   "outputs": [
    {
     "name": "stdout",
     "output_type": "stream",
     "text": [
      "<class 'pandas.core.frame.DataFrame'>\n",
      "RangeIndex: 10000 entries, 0 to 9999\n",
      "Data columns (total 12 columns):\n",
      " #   Column             Non-Null Count  Dtype  \n",
      "---  ------             --------------  -----  \n",
      " 0   credit_score       10000 non-null  int64  \n",
      " 1   age                10000 non-null  int64  \n",
      " 2   tenure             10000 non-null  float64\n",
      " 3   balance            10000 non-null  float64\n",
      " 4   num_of_products    10000 non-null  int64  \n",
      " 5   has_crcard         10000 non-null  int64  \n",
      " 6   is_active_member   10000 non-null  int64  \n",
      " 7   estimated_salary   10000 non-null  float64\n",
      " 8   exited             10000 non-null  int64  \n",
      " 9   geography_Germany  10000 non-null  uint8  \n",
      " 10  geography_Spain    10000 non-null  uint8  \n",
      " 11  gender_Male        10000 non-null  uint8  \n",
      "dtypes: float64(3), int64(6), uint8(3)\n",
      "memory usage: 732.5 KB\n"
     ]
    }
   ],
   "source": [
    "df_ohe.info()"
   ]
  },
  {
   "cell_type": "markdown",
   "metadata": {},
   "source": [
    "Разобьем данные на три части: обучающую, валидационную и тестовую.<br>\n",
    "Размеры тестовой и валидационной выборки обычно равны, поэтому разбиваем на 60, 20, 20 процентов."
   ]
  },
  {
   "cell_type": "code",
   "execution_count": 18,
   "metadata": {},
   "outputs": [],
   "source": [
    "features = df_ohe.drop(['exited'], axis=1)\n",
    "target = df_ohe['exited']\n",
    "\n",
    "features_train, features_test, target_train, target_test = train_test_split(\n",
    "    features, target, test_size=0.20, random_state=12345, stratify=target)\n",
    "\n",
    "features_train, features_valid, target_train, target_valid = train_test_split(\n",
    "    features_train, target_train, test_size=0.25, random_state=12345, stratify=target_train)"
   ]
  },
  {
   "cell_type": "code",
   "execution_count": 19,
   "metadata": {},
   "outputs": [
    {
     "data": {
      "text/plain": [
       "(6000, 11)"
      ]
     },
     "execution_count": 19,
     "metadata": {},
     "output_type": "execute_result"
    }
   ],
   "source": [
    "features_train.shape"
   ]
  },
  {
   "cell_type": "code",
   "execution_count": 20,
   "metadata": {},
   "outputs": [
    {
     "data": {
      "text/plain": [
       "(2000, 11)"
      ]
     },
     "execution_count": 20,
     "metadata": {},
     "output_type": "execute_result"
    }
   ],
   "source": [
    "features_valid.shape"
   ]
  },
  {
   "cell_type": "code",
   "execution_count": 21,
   "metadata": {},
   "outputs": [
    {
     "data": {
      "text/plain": [
       "(2000, 11)"
      ]
     },
     "execution_count": 21,
     "metadata": {},
     "output_type": "execute_result"
    }
   ],
   "source": [
    "features_test.shape"
   ]
  },
  {
   "cell_type": "code",
   "execution_count": 22,
   "metadata": {},
   "outputs": [],
   "source": [
    "scaler = StandardScaler()\n",
    "numeric = ['credit_score', 'age', 'tenure', 'balance', 'num_of_products', 'estimated_salary']\n",
    "\n",
    "scaler.fit(features_train[numeric])\n",
    "features_train[numeric] = scaler.transform(features_train[numeric])\n",
    "features_valid[numeric] = scaler.transform(features_valid[numeric])\n",
    "features_test[numeric] = scaler.transform(features_test[numeric])"
   ]
  },
  {
   "cell_type": "markdown",
   "metadata": {},
   "source": [
    "Посмотрим на соотношение классов целевого признака."
   ]
  },
  {
   "cell_type": "code",
   "execution_count": 23,
   "metadata": {},
   "outputs": [
    {
     "data": {
      "text/plain": [
       "0    0.7963\n",
       "1    0.2037\n",
       "Name: exited, dtype: float64"
      ]
     },
     "execution_count": 23,
     "metadata": {},
     "output_type": "execute_result"
    }
   ],
   "source": [
    "share = df['exited'].value_counts(normalize=True)\n",
    "share"
   ]
  },
  {
   "cell_type": "markdown",
   "metadata": {},
   "source": [
    "Соотношение классов примерно 1 к 4.<br>\n",
    "Изучим модели без исправления баланса. "
   ]
  },
  {
   "cell_type": "code",
   "execution_count": 24,
   "metadata": {},
   "outputs": [
    {
     "name": "stdout",
     "output_type": "stream",
     "text": [
      "F1: 0.3177570093457944\n"
     ]
    }
   ],
   "source": [
    "# логистическая регрессия\n",
    "clf = LogisticRegression(random_state=12345, solver='lbfgs')\n",
    "clf.fit(features_train, target_train)\n",
    "predicted_valid = clf.predict(features_valid)\n",
    "\n",
    "print('F1:', f1_score(target_valid, predicted_valid))"
   ]
  },
  {
   "cell_type": "markdown",
   "metadata": {},
   "source": [
    "Показатель F1=0.32 при дисбалансе на логистической регрессии не высокий."
   ]
  },
  {
   "cell_type": "code",
   "execution_count": 25,
   "metadata": {},
   "outputs": [
    {
     "data": {
      "text/plain": [
       "RandomizedSearchCV(cv=3, estimator=DecisionTreeClassifier(random_state=12345),\n",
       "                   param_distributions={'max_depth': range(2, 11),\n",
       "                                        'max_features': range(2, 11)},\n",
       "                   random_state=0)"
      ]
     },
     "execution_count": 25,
     "metadata": {},
     "output_type": "execute_result"
    }
   ],
   "source": [
    "# модель решающего дерева\n",
    "param_distributions = {\n",
    "    'max_depth': range (2, 11),\n",
    "    'max_features': range (2, 11)\n",
    "}\n",
    "clf = DecisionTreeClassifier(random_state=12345)\n",
    "search = RandomizedSearchCV(clf, param_distributions, n_iter=10, cv=3, random_state=0)\n",
    "search.fit(features_train, target_train)"
   ]
  },
  {
   "cell_type": "code",
   "execution_count": 26,
   "metadata": {},
   "outputs": [
    {
     "data": {
      "text/plain": [
       "{'max_features': 5, 'max_depth': 5}"
      ]
     },
     "execution_count": 26,
     "metadata": {},
     "output_type": "execute_result"
    }
   ],
   "source": [
    "search.best_params_"
   ]
  },
  {
   "cell_type": "code",
   "execution_count": 27,
   "metadata": {},
   "outputs": [
    {
     "data": {
      "text/plain": [
       "0.8525"
      ]
     },
     "execution_count": 27,
     "metadata": {},
     "output_type": "execute_result"
    }
   ],
   "source": [
    "search.best_score_"
   ]
  },
  {
   "cell_type": "code",
   "execution_count": 28,
   "metadata": {},
   "outputs": [
    {
     "name": "stdout",
     "output_type": "stream",
     "text": [
      "F1: 0.45\n",
      "CPU times: total: 31.2 ms\n",
      "Wall time: 33.1 ms\n"
     ]
    }
   ],
   "source": [
    "%%time\n",
    "\n",
    "clf = DecisionTreeClassifier(max_depth=5, max_features=5, random_state=12345)\n",
    "clf.fit(features_train, target_train)\n",
    "predicted_valid = clf.predict(features_valid)\n",
    "print('F1:', f1_score(target_valid, predicted_valid))"
   ]
  },
  {
   "cell_type": "markdown",
   "metadata": {},
   "source": [
    "Показатель при дисбалансе на модели решающего дерева F1 = 0.45 при max_depth=5, max_features=5."
   ]
  },
  {
   "cell_type": "code",
   "execution_count": 29,
   "metadata": {},
   "outputs": [
    {
     "data": {
      "text/plain": [
       "RandomizedSearchCV(cv=5, estimator=RandomForestClassifier(random_state=12345),\n",
       "                   param_distributions={'max_depth': range(2, 11),\n",
       "                                        'n_estimators': range(10, 51, 10)},\n",
       "                   random_state=0)"
      ]
     },
     "execution_count": 29,
     "metadata": {},
     "output_type": "execute_result"
    }
   ],
   "source": [
    "# модель случайный лес\n",
    "param_distributions = {\n",
    "    'max_depth': range (2, 11),\n",
    "    'n_estimators': range (10, 51, 10)\n",
    "}\n",
    "clf = RandomForestClassifier(random_state=12345)\n",
    "search = RandomizedSearchCV(clf, param_distributions, n_iter=10, cv=5, random_state=0)\n",
    "search.fit(features_train, target_train)"
   ]
  },
  {
   "cell_type": "code",
   "execution_count": 30,
   "metadata": {},
   "outputs": [
    {
     "data": {
      "text/plain": [
       "{'n_estimators': 40, 'max_depth': 9}"
      ]
     },
     "execution_count": 30,
     "metadata": {},
     "output_type": "execute_result"
    }
   ],
   "source": [
    "search.best_params_"
   ]
  },
  {
   "cell_type": "code",
   "execution_count": 31,
   "metadata": {},
   "outputs": [
    {
     "data": {
      "text/plain": [
       "0.8615"
      ]
     },
     "execution_count": 31,
     "metadata": {},
     "output_type": "execute_result"
    }
   ],
   "source": [
    "search.best_score_"
   ]
  },
  {
   "cell_type": "code",
   "execution_count": 32,
   "metadata": {},
   "outputs": [
    {
     "name": "stdout",
     "output_type": "stream",
     "text": [
      "F1: 0.5237315875613747\n",
      "CPU times: total: 516 ms\n",
      "Wall time: 519 ms\n"
     ]
    }
   ],
   "source": [
    "%%time\n",
    "\n",
    "clf = RandomForestClassifier(max_depth=9, n_estimators=30, random_state=12345)\n",
    "clf.fit(features_train, target_train)\n",
    "predicted_valid = clf.predict(features_valid)\n",
    "print('F1:', f1_score(target_valid, predicted_valid))"
   ]
  },
  {
   "cell_type": "markdown",
   "metadata": {},
   "source": [
    "Лучший показатель при дисбалансе на модели случайного леса F1 = 0.53 при max_depth=9, n_estimators=30."
   ]
  },
  {
   "cell_type": "markdown",
   "metadata": {},
   "source": [
    "## Борьба с дисбалансом"
   ]
  },
  {
   "cell_type": "markdown",
   "metadata": {},
   "source": [
    "Т.к. соотношение классов примерно 1 к 4, сначала попробуем уменьшить выборку, используя **downsampling**."
   ]
  },
  {
   "cell_type": "code",
   "execution_count": 33,
   "metadata": {},
   "outputs": [
    {
     "name": "stdout",
     "output_type": "stream",
     "text": [
      "0    1242\n",
      "1    1223\n",
      "Name: exited, dtype: int64\n"
     ]
    }
   ],
   "source": [
    "def downsample(features, target, fraction):\n",
    "    features_zeros = features[target == 0]\n",
    "    features_ones = features[target == 1]\n",
    "    target_zeros = target[target == 0]\n",
    "    target_ones = target[target == 1]\n",
    "\n",
    "    features_downsampled = pd.concat(\n",
    "        [features_zeros.sample(frac=fraction, random_state=12345)] + [features_ones])\n",
    "    target_downsampled = pd.concat(\n",
    "        [target_zeros.sample(frac=fraction, random_state=12345)] + [target_ones])\n",
    "    features_downsampled, target_downsampled = shuffle(\n",
    "        features_downsampled, target_downsampled, random_state=12345)\n",
    "    \n",
    "    return features_downsampled, target_downsampled\n",
    "\n",
    "features_downsampled, target_downsampled = downsample(features_train, target_train, 0.26)\n",
    "\n",
    "print(target_downsampled.value_counts())"
   ]
  },
  {
   "cell_type": "code",
   "execution_count": 34,
   "metadata": {},
   "outputs": [
    {
     "name": "stdout",
     "output_type": "stream",
     "text": [
      "F1: 0.5127753303964757\n"
     ]
    }
   ],
   "source": [
    "# логистическая регрессия\n",
    "clf = LogisticRegression(random_state=12345, solver='lbfgs')\n",
    "clf.fit(features_downsampled, target_downsampled)\n",
    "predicted_valid = clf.predict(features_valid)\n",
    "\n",
    "print('F1:', f1_score(target_valid, predicted_valid))"
   ]
  },
  {
   "cell_type": "code",
   "execution_count": 35,
   "metadata": {},
   "outputs": [
    {
     "data": {
      "text/plain": [
       "RandomizedSearchCV(cv=3, estimator=DecisionTreeClassifier(random_state=12345),\n",
       "                   param_distributions={'max_depth': range(2, 11),\n",
       "                                        'max_features': range(2, 11)},\n",
       "                   random_state=0)"
      ]
     },
     "execution_count": 35,
     "metadata": {},
     "output_type": "execute_result"
    }
   ],
   "source": [
    "# модель решающего дерева\n",
    "param_distributions = {\n",
    "    'max_depth': range (2, 11),\n",
    "    'max_features': range (2, 11)\n",
    "}\n",
    "clf = DecisionTreeClassifier(random_state=12345)\n",
    "search = RandomizedSearchCV(clf, param_distributions, n_iter=10, cv=3, random_state=0)\n",
    "search.fit(features_downsampled, target_downsampled)"
   ]
  },
  {
   "cell_type": "code",
   "execution_count": 36,
   "metadata": {},
   "outputs": [
    {
     "data": {
      "text/plain": [
       "{'max_features': 5, 'max_depth': 5}"
      ]
     },
     "execution_count": 36,
     "metadata": {},
     "output_type": "execute_result"
    }
   ],
   "source": [
    "search.best_params_"
   ]
  },
  {
   "cell_type": "code",
   "execution_count": 37,
   "metadata": {},
   "outputs": [
    {
     "data": {
      "text/plain": [
       "0.7294138159603989"
      ]
     },
     "execution_count": 37,
     "metadata": {},
     "output_type": "execute_result"
    }
   ],
   "source": [
    "search.best_score_"
   ]
  },
  {
   "cell_type": "code",
   "execution_count": 38,
   "metadata": {},
   "outputs": [
    {
     "name": "stdout",
     "output_type": "stream",
     "text": [
      "F1: 0.5594013096351731\n",
      "CPU times: total: 31.2 ms\n",
      "Wall time: 32 ms\n"
     ]
    }
   ],
   "source": [
    "%%time\n",
    "\n",
    "clf = DecisionTreeClassifier(max_depth=5, max_features=5, random_state=12345)\n",
    "clf.fit(features_downsampled, target_downsampled)\n",
    "predicted_valid = clf.predict(features_valid)\n",
    "print('F1:', f1_score(target_valid, predicted_valid))"
   ]
  },
  {
   "cell_type": "code",
   "execution_count": 39,
   "metadata": {},
   "outputs": [
    {
     "data": {
      "text/plain": [
       "RandomizedSearchCV(cv=5, estimator=RandomForestClassifier(random_state=12345),\n",
       "                   param_distributions={'max_depth': range(2, 11),\n",
       "                                        'n_estimators': range(10, 51, 10)},\n",
       "                   random_state=0)"
      ]
     },
     "execution_count": 39,
     "metadata": {},
     "output_type": "execute_result"
    }
   ],
   "source": [
    "# модель случайный лес\n",
    "param_distributions = {\n",
    "    'max_depth': range (2, 11),\n",
    "    'n_estimators': range (10, 51, 10)\n",
    "}\n",
    "clf = RandomForestClassifier(random_state=12345)\n",
    "search = RandomizedSearchCV(clf, param_distributions, n_iter=10, cv=5, random_state=0)\n",
    "search.fit(features_downsampled, target_downsampled)"
   ]
  },
  {
   "cell_type": "code",
   "execution_count": 40,
   "metadata": {},
   "outputs": [
    {
     "data": {
      "text/plain": [
       "{'n_estimators': 40, 'max_depth': 7}"
      ]
     },
     "execution_count": 40,
     "metadata": {},
     "output_type": "execute_result"
    }
   ],
   "source": [
    "search.best_params_"
   ]
  },
  {
   "cell_type": "code",
   "execution_count": 41,
   "metadata": {},
   "outputs": [
    {
     "data": {
      "text/plain": [
       "0.7614604462474646"
      ]
     },
     "execution_count": 41,
     "metadata": {},
     "output_type": "execute_result"
    }
   ],
   "source": [
    "search.best_score_"
   ]
  },
  {
   "cell_type": "code",
   "execution_count": 42,
   "metadata": {},
   "outputs": [
    {
     "name": "stdout",
     "output_type": "stream",
     "text": [
      "F1: 0.6143141153081512\n",
      "CPU times: total: 500 ms\n",
      "Wall time: 520 ms\n"
     ]
    }
   ],
   "source": [
    "%%time\n",
    "\n",
    "clf = RandomForestClassifier(max_depth=9, n_estimators=40, random_state=12345)\n",
    "clf.fit(features_downsampled, target_downsampled)\n",
    "predicted_valid = clf.predict(features_valid)\n",
    "print('F1:', f1_score(target_valid, predicted_valid))"
   ]
  },
  {
   "cell_type": "markdown",
   "metadata": {},
   "source": [
    "После уменьшения объектов отрицательного класса лучший F1 = 0.61 при max_depth=9 и n_estimators=40 показала модель случайного леса."
   ]
  },
  {
   "cell_type": "markdown",
   "metadata": {},
   "source": [
    "Увеличим объекты положительного класса и заново обучим модели, используя **upsampling**."
   ]
  },
  {
   "cell_type": "code",
   "execution_count": 43,
   "metadata": {},
   "outputs": [
    {
     "name": "stdout",
     "output_type": "stream",
     "text": [
      "1    4892\n",
      "0    4777\n",
      "Name: exited, dtype: int64\n"
     ]
    }
   ],
   "source": [
    "def upsample(features, target, repeat):\n",
    "    features_zeros = features[target==0]\n",
    "    features_ones = features[target==1]\n",
    "    target_zeros = target[target==0]\n",
    "    target_ones = target[target==1]\n",
    "    \n",
    "    features_upsampled = pd.concat([features_zeros] + [features_ones] * repeat)\n",
    "    target_upsampled = pd.concat([target_zeros] + [target_ones] * repeat)\n",
    "\n",
    "    features_upsampled, target_upsampled = shuffle(features_upsampled, target_upsampled, random_state=0)\n",
    "    return features_upsampled, target_upsampled\n",
    "\n",
    "features_upsampled, target_upsampled = upsample(features_train, target_train, 4)\n",
    "\n",
    "print(target_upsampled.value_counts())"
   ]
  },
  {
   "cell_type": "code",
   "execution_count": 44,
   "metadata": {},
   "outputs": [
    {
     "name": "stdout",
     "output_type": "stream",
     "text": [
      "F1: 0.511587982832618\n"
     ]
    }
   ],
   "source": [
    "# логистическая регрессия\n",
    "clf = LogisticRegression(random_state=0, solver='lbfgs')\n",
    "clf.fit(features_upsampled, target_upsampled)\n",
    "predicted_valid = clf.predict(features_valid)\n",
    "\n",
    "print('F1:', f1_score(target_valid, predicted_valid))"
   ]
  },
  {
   "cell_type": "code",
   "execution_count": 45,
   "metadata": {},
   "outputs": [
    {
     "data": {
      "text/plain": [
       "RandomizedSearchCV(cv=3, estimator=DecisionTreeClassifier(random_state=12345),\n",
       "                   param_distributions={'max_depth': range(2, 11),\n",
       "                                        'max_features': range(2, 11)},\n",
       "                   random_state=0)"
      ]
     },
     "execution_count": 45,
     "metadata": {},
     "output_type": "execute_result"
    }
   ],
   "source": [
    "# модель решающего дерева\n",
    "param_distributions = {\n",
    "    'max_depth': range (2, 11),\n",
    "    'max_features': range (2, 11)\n",
    "}\n",
    "clf = DecisionTreeClassifier(random_state=12345)\n",
    "search = RandomizedSearchCV(clf, param_distributions, n_iter=10, cv=3, random_state=0)\n",
    "search.fit(features_upsampled, target_upsampled)"
   ]
  },
  {
   "cell_type": "code",
   "execution_count": 46,
   "metadata": {},
   "outputs": [
    {
     "data": {
      "text/plain": [
       "{'max_features': 10, 'max_depth': 9}"
      ]
     },
     "execution_count": 46,
     "metadata": {},
     "output_type": "execute_result"
    }
   ],
   "source": [
    "search.best_params_"
   ]
  },
  {
   "cell_type": "code",
   "execution_count": 47,
   "metadata": {},
   "outputs": [
    {
     "data": {
      "text/plain": [
       "0.8061847140345434"
      ]
     },
     "execution_count": 47,
     "metadata": {},
     "output_type": "execute_result"
    }
   ],
   "source": [
    "search.best_score_"
   ]
  },
  {
   "cell_type": "code",
   "execution_count": 48,
   "metadata": {},
   "outputs": [
    {
     "name": "stdout",
     "output_type": "stream",
     "text": [
      "F1: 0.5423728813559322\n",
      "CPU times: total: 62.5 ms\n",
      "Wall time: 81.4 ms\n"
     ]
    }
   ],
   "source": [
    "%%time\n",
    "\n",
    "clf = DecisionTreeClassifier(max_depth=9, max_features=10, random_state=12345)\n",
    "clf.fit(features_upsampled, target_upsampled)\n",
    "predicted_valid = clf.predict(features_valid)\n",
    "print('F1:', f1_score(target_valid, predicted_valid))"
   ]
  },
  {
   "cell_type": "code",
   "execution_count": 49,
   "metadata": {},
   "outputs": [
    {
     "data": {
      "text/plain": [
       "RandomizedSearchCV(cv=5, estimator=RandomForestClassifier(random_state=12345),\n",
       "                   param_distributions={'max_depth': range(2, 11),\n",
       "                                        'n_estimators': range(10, 51, 10)},\n",
       "                   random_state=0)"
      ]
     },
     "execution_count": 49,
     "metadata": {},
     "output_type": "execute_result"
    }
   ],
   "source": [
    "# модель случайный лес\n",
    "param_distributions = {\n",
    "    'max_depth': range (2, 11),\n",
    "    'n_estimators': range (10, 51, 10)\n",
    "}\n",
    "clf = RandomForestClassifier(random_state=12345)\n",
    "search = RandomizedSearchCV(clf, param_distributions, n_iter=10, cv=5, random_state=0)\n",
    "search.fit(features_upsampled, target_upsampled)"
   ]
  },
  {
   "cell_type": "code",
   "execution_count": 50,
   "metadata": {},
   "outputs": [
    {
     "data": {
      "text/plain": [
       "{'n_estimators': 40, 'max_depth': 9}"
      ]
     },
     "execution_count": 50,
     "metadata": {},
     "output_type": "execute_result"
    }
   ],
   "source": [
    "search.best_params_"
   ]
  },
  {
   "cell_type": "code",
   "execution_count": 51,
   "metadata": {},
   "outputs": [
    {
     "data": {
      "text/plain": [
       "0.8375218207040296"
      ]
     },
     "execution_count": 51,
     "metadata": {},
     "output_type": "execute_result"
    }
   ],
   "source": [
    "search.best_score_"
   ]
  },
  {
   "cell_type": "code",
   "execution_count": 52,
   "metadata": {},
   "outputs": [
    {
     "name": "stdout",
     "output_type": "stream",
     "text": [
      "F1: 0.617801047120419\n",
      "CPU times: total: 1.05 s\n",
      "Wall time: 1.05 s\n"
     ]
    }
   ],
   "source": [
    "%%time\n",
    "\n",
    "clf = RandomForestClassifier(max_depth=9, n_estimators=40, random_state=12345)\n",
    "clf.fit(features_upsampled, target_upsampled)\n",
    "predicted_valid = clf.predict(features_valid)\n",
    "print('F1:', f1_score(target_valid, predicted_valid))"
   ]
  },
  {
   "cell_type": "markdown",
   "metadata": {},
   "source": [
    "После увеличения объектов положительного класса лучший F1 = 0.62 при max_depth=9 и n_estimators=40 показала модель случайного леса."
   ]
  },
  {
   "cell_type": "markdown",
   "metadata": {},
   "source": [
    "Чтобы посмотреть как сильно наша модель отличается от случайной, посчитаем AUC_ROC."
   ]
  },
  {
   "cell_type": "code",
   "execution_count": 53,
   "metadata": {},
   "outputs": [
    {
     "name": "stdout",
     "output_type": "stream",
     "text": [
      "AUC_ROC: 0.8662422052252562\n"
     ]
    }
   ],
   "source": [
    "probabilities_valid = clf.predict_proba(features_valid)\n",
    "probabilities_one_valid = probabilities_valid[:, 1]\n",
    "\n",
    "auc_roc = roc_auc_score(target_valid, probabilities_one_valid)\n",
    "print('AUC_ROC:', auc_roc)"
   ]
  },
  {
   "cell_type": "markdown",
   "metadata": {},
   "source": [
    "## Тестирование модели"
   ]
  },
  {
   "cell_type": "markdown",
   "metadata": {},
   "source": [
    "Модель случайного леса на увеличенной выборке показала лучшее значение F1-меры, поэтому тестировать будем на этой модели."
   ]
  },
  {
   "cell_type": "code",
   "execution_count": 55,
   "metadata": {},
   "outputs": [
    {
     "name": "stdout",
     "output_type": "stream",
     "text": [
      "F1: 0.6306878306878307\n",
      "CPU times: total: 1.09 s\n",
      "Wall time: 1.12 s\n"
     ]
    }
   ],
   "source": [
    "%%time\n",
    "\n",
    "clf = RandomForestClassifier(max_depth=9, n_estimators=40, random_state=12345)\n",
    "clf.fit(features_upsampled, target_upsampled)\n",
    "predicted_test = clf.predict(features_test)\n",
    "print('F1:', f1_score(target_test, predicted_test))"
   ]
  },
  {
   "cell_type": "markdown",
   "metadata": {},
   "source": [
    "<br>\n",
    "<br>\n",
    "\n",
    "**ВЫВОД:**\n",
    "<br>\n",
    "\n",
    "**Предобработка данных.**\n",
    "\n",
    "В столбце `Tenure` пропущенные значения заменены случайными числами, чтобы не повлиять на распределение, а так же не найдена завсисимость с другими столбцами (корреляция низкая).\n",
    "\n",
    "Больше всего клиентов, ушедших из банка:\n",
    "- из Германии (814 чел.)\n",
    "- женщин (1139 чел.)\n",
    "- имеющих 1 банковский продукт (1409 чел.)\n",
    "- имеющих кредитную карту (1424 чел.)\n",
    "- не активный клиент (1302 чел.)\n",
    "\n",
    "**Исследование данных.**\n",
    "\n",
    "Соотношение классов целевого признака примерно 1 к 4.\n",
    "\n",
    "*При дисбалансе:*<br>\n",
    "Показатель F1=0.32 на логистической регрессии не высокий.<br>\n",
    "Показатель на модели решающего дерева F1 = 0.45 при max_depth=5, max_features=5.<br>\n",
    "Лучший показатель на модели случайного леса F1 = 0.53 при max_depth=9, n_estimators=30.\n",
    "\n",
    "*Уменьшение отрицательного класса:*<br>\n",
    "После уменьшения объектов отрицательного класса лучший F1 = 0.61 при max_depth=9 и n_estimators=40 показала модель случайного леса.\n",
    "\n",
    "*Увеличение положительного класса:*<br>\n",
    "После увеличения объектов положительного класса лучший F1 = 0.62 при max_depth=9 и n_estimators=40 показала модель случайного леса.\n",
    "\n",
    "**Общий вывод.**<br>\n",
    "\n",
    "Модель случайного леса на увеличенной выборке показала лучшее значение F1-меры, поэтому тестирование проводилось на этой модели.<br>\n",
    "Так же даная модель проверена на адекватность, подтвержденная значением AUC-ROC = 0.86. <br>\n",
    "Это лучше, чем случайная модель предсказывания (AUC-ROC = 0.5).<br> \n",
    "\n",
    "Модель на тестовой выборке показала значение F-меры - 0.61, что соответствует критерию заказчика."
   ]
  }
 ],
 "metadata": {
  "ExecuteTimeLog": [
   {
    "duration": 44,
    "start_time": "2022-11-14T12:13:14.668Z"
   },
   {
    "duration": 395,
    "start_time": "2022-11-14T12:13:18.952Z"
   },
   {
    "duration": 109,
    "start_time": "2022-11-14T12:13:20.964Z"
   },
   {
    "duration": 5,
    "start_time": "2022-11-14T12:15:23.748Z"
   },
   {
    "duration": 32,
    "start_time": "2022-11-14T12:16:34.428Z"
   },
   {
    "duration": 10,
    "start_time": "2022-11-14T12:16:56.882Z"
   },
   {
    "duration": 7,
    "start_time": "2022-11-14T12:17:17.800Z"
   },
   {
    "duration": 12,
    "start_time": "2022-11-14T12:17:27.376Z"
   },
   {
    "duration": 18,
    "start_time": "2022-11-14T12:18:12.893Z"
   },
   {
    "duration": 12,
    "start_time": "2022-11-14T12:18:30.170Z"
   },
   {
    "duration": 11,
    "start_time": "2022-11-14T12:18:34.972Z"
   },
   {
    "duration": 6,
    "start_time": "2022-11-14T12:20:20.226Z"
   },
   {
    "duration": 24,
    "start_time": "2022-11-14T12:21:49.049Z"
   },
   {
    "duration": 6,
    "start_time": "2022-11-14T12:28:33.222Z"
   },
   {
    "duration": 10,
    "start_time": "2022-11-14T12:30:33.167Z"
   },
   {
    "duration": 19,
    "start_time": "2022-11-14T12:31:20.000Z"
   },
   {
    "duration": 1086,
    "start_time": "2022-11-14T12:32:32.211Z"
   },
   {
    "duration": 21,
    "start_time": "2022-11-14T12:32:48.042Z"
   },
   {
    "duration": 75,
    "start_time": "2022-11-14T12:35:58.786Z"
   },
   {
    "duration": 310,
    "start_time": "2022-11-14T12:36:26.583Z"
   },
   {
    "duration": 117,
    "start_time": "2022-11-14T12:36:31.434Z"
   },
   {
    "duration": 5,
    "start_time": "2022-11-14T12:37:50.641Z"
   },
   {
    "duration": 14,
    "start_time": "2022-11-14T12:38:07.879Z"
   },
   {
    "duration": 5,
    "start_time": "2022-11-14T12:38:19.955Z"
   },
   {
    "duration": 9,
    "start_time": "2022-11-14T12:38:53.967Z"
   },
   {
    "duration": 8,
    "start_time": "2022-11-14T12:39:51.105Z"
   },
   {
    "duration": 5,
    "start_time": "2022-11-14T12:40:05.899Z"
   },
   {
    "duration": 7,
    "start_time": "2022-11-14T12:44:05.118Z"
   },
   {
    "duration": 6,
    "start_time": "2022-11-14T12:45:33.421Z"
   },
   {
    "duration": 45,
    "start_time": "2022-11-14T12:45:56.027Z"
   },
   {
    "duration": 43,
    "start_time": "2022-11-14T12:46:05.664Z"
   },
   {
    "duration": 9,
    "start_time": "2022-11-14T12:46:42.476Z"
   },
   {
    "duration": 7,
    "start_time": "2022-11-14T12:46:52.064Z"
   },
   {
    "duration": 7,
    "start_time": "2022-11-14T12:47:16.131Z"
   },
   {
    "duration": 7,
    "start_time": "2022-11-14T12:47:42.959Z"
   },
   {
    "duration": 9,
    "start_time": "2022-11-14T12:47:53.452Z"
   },
   {
    "duration": 7,
    "start_time": "2022-11-14T12:47:59.910Z"
   },
   {
    "duration": 8,
    "start_time": "2022-11-14T12:48:32.596Z"
   },
   {
    "duration": 11,
    "start_time": "2022-11-14T12:48:47.319Z"
   },
   {
    "duration": 8,
    "start_time": "2022-11-14T12:48:57.544Z"
   },
   {
    "duration": 9,
    "start_time": "2022-11-14T12:49:02.456Z"
   },
   {
    "duration": 8,
    "start_time": "2022-11-14T12:49:07.728Z"
   },
   {
    "duration": 7,
    "start_time": "2022-11-14T12:49:11.135Z"
   },
   {
    "duration": 8,
    "start_time": "2022-11-14T12:50:40.228Z"
   },
   {
    "duration": 7,
    "start_time": "2022-11-14T12:53:50.477Z"
   },
   {
    "duration": 8,
    "start_time": "2022-11-14T12:53:58.330Z"
   },
   {
    "duration": 8,
    "start_time": "2022-11-14T12:54:17.645Z"
   },
   {
    "duration": 8,
    "start_time": "2022-11-14T12:54:24.535Z"
   },
   {
    "duration": 9,
    "start_time": "2022-11-14T12:54:53.695Z"
   },
   {
    "duration": 11,
    "start_time": "2022-11-14T12:55:05.161Z"
   },
   {
    "duration": 6,
    "start_time": "2022-11-14T12:55:47.636Z"
   },
   {
    "duration": 6,
    "start_time": "2022-11-14T12:55:52.378Z"
   },
   {
    "duration": 7,
    "start_time": "2022-11-14T12:56:06.989Z"
   },
   {
    "duration": 11,
    "start_time": "2022-11-14T12:56:27.829Z"
   },
   {
    "duration": 12,
    "start_time": "2022-11-14T12:57:21.505Z"
   },
   {
    "duration": 4,
    "start_time": "2022-11-14T12:59:30.672Z"
   },
   {
    "duration": 132,
    "start_time": "2022-11-14T12:59:52.734Z"
   },
   {
    "duration": 7,
    "start_time": "2022-11-14T13:01:03.111Z"
   },
   {
    "duration": 8,
    "start_time": "2022-11-14T13:01:06.604Z"
   },
   {
    "duration": 8,
    "start_time": "2022-11-14T13:01:11.313Z"
   },
   {
    "duration": 3,
    "start_time": "2022-11-14T13:01:45.940Z"
   },
   {
    "duration": 2,
    "start_time": "2022-11-14T13:03:11.627Z"
   },
   {
    "duration": 3,
    "start_time": "2022-11-14T13:03:14.235Z"
   },
   {
    "duration": 8,
    "start_time": "2022-11-14T13:03:19.081Z"
   },
   {
    "duration": 8,
    "start_time": "2022-11-14T13:06:28.921Z"
   },
   {
    "duration": 5,
    "start_time": "2022-11-14T13:06:36.601Z"
   },
   {
    "duration": 121,
    "start_time": "2022-11-14T13:06:37.934Z"
   },
   {
    "duration": 8,
    "start_time": "2022-11-14T13:07:15.199Z"
   },
   {
    "duration": 174,
    "start_time": "2022-11-14T13:07:20.674Z"
   },
   {
    "duration": 8,
    "start_time": "2022-11-14T13:07:22.072Z"
   },
   {
    "duration": 577,
    "start_time": "2022-11-14T13:07:30.079Z"
   },
   {
    "duration": 49,
    "start_time": "2022-11-14T13:07:30.657Z"
   },
   {
    "duration": 12,
    "start_time": "2022-11-14T13:07:30.708Z"
   },
   {
    "duration": 143,
    "start_time": "2022-11-14T13:07:30.721Z"
   },
   {
    "duration": 9,
    "start_time": "2022-11-14T13:07:30.866Z"
   },
   {
    "duration": 51,
    "start_time": "2022-11-14T13:07:30.876Z"
   },
   {
    "duration": 12,
    "start_time": "2022-11-14T13:07:30.929Z"
   },
   {
    "duration": 19,
    "start_time": "2022-11-14T13:07:30.943Z"
   },
   {
    "duration": 28,
    "start_time": "2022-11-14T13:07:30.964Z"
   },
   {
    "duration": 139,
    "start_time": "2022-11-14T13:07:30.993Z"
   },
   {
    "duration": 74,
    "start_time": "2022-11-14T13:08:36.160Z"
   },
   {
    "duration": 565,
    "start_time": "2022-11-14T13:08:51.782Z"
   },
   {
    "duration": 55,
    "start_time": "2022-11-14T13:08:52.349Z"
   },
   {
    "duration": 13,
    "start_time": "2022-11-14T13:08:52.406Z"
   },
   {
    "duration": 164,
    "start_time": "2022-11-14T13:08:52.422Z"
   },
   {
    "duration": 9,
    "start_time": "2022-11-14T13:08:52.588Z"
   },
   {
    "duration": 17,
    "start_time": "2022-11-14T13:08:52.599Z"
   },
   {
    "duration": 2,
    "start_time": "2022-11-14T13:08:52.618Z"
   },
   {
    "duration": 16,
    "start_time": "2022-11-14T13:08:52.622Z"
   },
   {
    "duration": 78,
    "start_time": "2022-11-14T13:08:52.639Z"
   },
   {
    "duration": 0,
    "start_time": "2022-11-14T13:08:52.719Z"
   },
   {
    "duration": 6,
    "start_time": "2022-11-14T13:09:04.123Z"
   },
   {
    "duration": 112,
    "start_time": "2022-11-14T13:09:05.905Z"
   },
   {
    "duration": 18,
    "start_time": "2022-11-14T13:15:35.627Z"
   },
   {
    "duration": 7,
    "start_time": "2022-11-14T13:20:24.484Z"
   },
   {
    "duration": 114,
    "start_time": "2022-11-14T13:20:47.121Z"
   },
   {
    "duration": 6,
    "start_time": "2022-11-14T13:20:48.611Z"
   },
   {
    "duration": 626,
    "start_time": "2022-11-14T13:20:55.730Z"
   },
   {
    "duration": 50,
    "start_time": "2022-11-14T13:20:56.358Z"
   },
   {
    "duration": 12,
    "start_time": "2022-11-14T13:20:56.409Z"
   },
   {
    "duration": 128,
    "start_time": "2022-11-14T13:20:56.423Z"
   },
   {
    "duration": 6,
    "start_time": "2022-11-14T13:20:56.553Z"
   },
   {
    "duration": 22,
    "start_time": "2022-11-14T13:20:56.560Z"
   },
   {
    "duration": 19,
    "start_time": "2022-11-14T13:20:56.583Z"
   },
   {
    "duration": 123,
    "start_time": "2022-11-14T13:20:56.603Z"
   },
   {
    "duration": 74,
    "start_time": "2022-11-14T13:22:07.173Z"
   },
   {
    "duration": 7,
    "start_time": "2022-11-14T13:22:22.217Z"
   },
   {
    "duration": 7,
    "start_time": "2022-11-14T13:23:20.786Z"
   },
   {
    "duration": 10,
    "start_time": "2022-11-14T13:24:13.894Z"
   },
   {
    "duration": 21,
    "start_time": "2022-11-14T13:24:22.245Z"
   },
   {
    "duration": 6,
    "start_time": "2022-11-14T13:27:30.603Z"
   },
   {
    "duration": 7,
    "start_time": "2022-11-14T13:28:05.538Z"
   },
   {
    "duration": 599,
    "start_time": "2022-11-14T13:29:27.261Z"
   },
   {
    "duration": 48,
    "start_time": "2022-11-14T13:29:27.861Z"
   },
   {
    "duration": 12,
    "start_time": "2022-11-14T13:29:27.911Z"
   },
   {
    "duration": 115,
    "start_time": "2022-11-14T13:29:27.925Z"
   },
   {
    "duration": 24,
    "start_time": "2022-11-14T13:29:28.042Z"
   },
   {
    "duration": 5,
    "start_time": "2022-11-14T13:29:28.068Z"
   },
   {
    "duration": 7,
    "start_time": "2022-11-14T13:29:28.075Z"
   },
   {
    "duration": 120,
    "start_time": "2022-11-14T13:29:28.083Z"
   },
   {
    "duration": 836,
    "start_time": "2022-11-14T13:35:13.075Z"
   },
   {
    "duration": 5,
    "start_time": "2022-11-14T13:35:21.931Z"
   },
   {
    "duration": 124,
    "start_time": "2022-11-14T13:35:23.083Z"
   },
   {
    "duration": 15,
    "start_time": "2022-11-14T13:36:26.710Z"
   },
   {
    "duration": 4,
    "start_time": "2022-11-14T13:36:38.892Z"
   },
   {
    "duration": 69,
    "start_time": "2022-11-14T13:40:55.236Z"
   },
   {
    "duration": 12,
    "start_time": "2022-11-14T13:41:19.814Z"
   },
   {
    "duration": 34,
    "start_time": "2022-11-14T13:46:16.378Z"
   },
   {
    "duration": 9,
    "start_time": "2022-11-14T13:51:12.843Z"
   },
   {
    "duration": 48,
    "start_time": "2022-11-15T06:00:00.110Z"
   },
   {
    "duration": 752,
    "start_time": "2022-11-15T06:00:09.467Z"
   },
   {
    "duration": 176,
    "start_time": "2022-11-15T06:00:10.221Z"
   },
   {
    "duration": 5,
    "start_time": "2022-11-15T06:00:10.398Z"
   },
   {
    "duration": 22,
    "start_time": "2022-11-15T06:00:10.406Z"
   },
   {
    "duration": 35,
    "start_time": "2022-11-15T06:00:10.430Z"
   },
   {
    "duration": 123,
    "start_time": "2022-11-15T06:00:10.476Z"
   },
   {
    "duration": 80,
    "start_time": "2022-11-15T06:00:10.601Z"
   },
   {
    "duration": 0,
    "start_time": "2022-11-15T06:00:10.683Z"
   },
   {
    "duration": 0,
    "start_time": "2022-11-15T06:00:10.684Z"
   },
   {
    "duration": 0,
    "start_time": "2022-11-15T06:00:10.685Z"
   },
   {
    "duration": 0,
    "start_time": "2022-11-15T06:00:10.686Z"
   },
   {
    "duration": 0,
    "start_time": "2022-11-15T06:00:10.687Z"
   },
   {
    "duration": 4,
    "start_time": "2022-11-15T06:04:17.099Z"
   },
   {
    "duration": 13,
    "start_time": "2022-11-15T06:04:20.785Z"
   },
   {
    "duration": 39,
    "start_time": "2022-11-15T06:06:08.883Z"
   },
   {
    "duration": 36,
    "start_time": "2022-11-15T06:06:25.618Z"
   },
   {
    "duration": 272,
    "start_time": "2022-11-15T06:06:41.678Z"
   },
   {
    "duration": 37,
    "start_time": "2022-11-15T06:06:57.574Z"
   },
   {
    "duration": 62,
    "start_time": "2022-11-15T06:07:12.741Z"
   },
   {
    "duration": 38,
    "start_time": "2022-11-15T06:07:34.420Z"
   },
   {
    "duration": 3,
    "start_time": "2022-11-15T06:08:26.333Z"
   },
   {
    "duration": 12,
    "start_time": "2022-11-15T06:08:30.510Z"
   },
   {
    "duration": 7,
    "start_time": "2022-11-15T06:12:30.681Z"
   },
   {
    "duration": 7,
    "start_time": "2022-11-15T06:12:36.672Z"
   },
   {
    "duration": 53,
    "start_time": "2022-11-15T06:14:04.288Z"
   },
   {
    "duration": 43,
    "start_time": "2022-11-15T06:14:31.018Z"
   },
   {
    "duration": 23,
    "start_time": "2022-11-15T06:15:48.770Z"
   },
   {
    "duration": 17,
    "start_time": "2022-11-15T06:20:23.961Z"
   },
   {
    "duration": 12,
    "start_time": "2022-11-15T06:21:39.200Z"
   },
   {
    "duration": 43,
    "start_time": "2022-11-15T06:22:26.759Z"
   },
   {
    "duration": 9,
    "start_time": "2022-11-15T06:22:35.615Z"
   },
   {
    "duration": 81,
    "start_time": "2022-11-15T06:22:41.529Z"
   },
   {
    "duration": 7,
    "start_time": "2022-11-15T06:23:31.430Z"
   },
   {
    "duration": 69,
    "start_time": "2022-11-15T06:23:39.450Z"
   },
   {
    "duration": 11,
    "start_time": "2022-11-15T06:24:46.161Z"
   },
   {
    "duration": 8,
    "start_time": "2022-11-15T06:25:51.413Z"
   },
   {
    "duration": 9,
    "start_time": "2022-11-15T06:25:53.916Z"
   },
   {
    "duration": 8,
    "start_time": "2022-11-15T06:26:01.283Z"
   },
   {
    "duration": 10,
    "start_time": "2022-11-15T06:27:32.705Z"
   },
   {
    "duration": 9,
    "start_time": "2022-11-15T06:27:51.214Z"
   },
   {
    "duration": 10,
    "start_time": "2022-11-15T06:27:58.821Z"
   },
   {
    "duration": 13,
    "start_time": "2022-11-15T06:30:03.947Z"
   },
   {
    "duration": 11,
    "start_time": "2022-11-15T06:30:19.191Z"
   },
   {
    "duration": 15,
    "start_time": "2022-11-15T06:30:41.617Z"
   },
   {
    "duration": 12,
    "start_time": "2022-11-15T06:30:55.240Z"
   },
   {
    "duration": 10,
    "start_time": "2022-11-15T06:31:14.686Z"
   },
   {
    "duration": 9,
    "start_time": "2022-11-15T06:31:23.652Z"
   },
   {
    "duration": 9,
    "start_time": "2022-11-15T06:31:50.490Z"
   },
   {
    "duration": 10,
    "start_time": "2022-11-15T06:33:43.504Z"
   },
   {
    "duration": 766,
    "start_time": "2022-11-15T06:35:18.649Z"
   },
   {
    "duration": 933,
    "start_time": "2022-11-15T06:35:24.199Z"
   },
   {
    "duration": 585,
    "start_time": "2022-11-15T06:35:32.392Z"
   },
   {
    "duration": 54,
    "start_time": "2022-11-15T06:35:32.978Z"
   },
   {
    "duration": 4,
    "start_time": "2022-11-15T06:35:33.033Z"
   },
   {
    "duration": 25,
    "start_time": "2022-11-15T06:35:33.040Z"
   },
   {
    "duration": 52,
    "start_time": "2022-11-15T06:35:33.067Z"
   },
   {
    "duration": 12,
    "start_time": "2022-11-15T06:35:33.121Z"
   },
   {
    "duration": 11,
    "start_time": "2022-11-15T06:35:33.135Z"
   },
   {
    "duration": 807,
    "start_time": "2022-11-15T06:35:33.148Z"
   },
   {
    "duration": 0,
    "start_time": "2022-11-15T06:35:33.957Z"
   },
   {
    "duration": 0,
    "start_time": "2022-11-15T06:35:33.958Z"
   },
   {
    "duration": 0,
    "start_time": "2022-11-15T06:35:33.959Z"
   },
   {
    "duration": 0,
    "start_time": "2022-11-15T06:35:33.960Z"
   },
   {
    "duration": 0,
    "start_time": "2022-11-15T06:35:33.962Z"
   },
   {
    "duration": 124,
    "start_time": "2022-11-15T06:35:50.013Z"
   },
   {
    "duration": 752,
    "start_time": "2022-11-15T06:35:52.962Z"
   },
   {
    "duration": 6,
    "start_time": "2022-11-15T06:35:58.037Z"
   },
   {
    "duration": 769,
    "start_time": "2022-11-15T06:36:09.817Z"
   },
   {
    "duration": 5,
    "start_time": "2022-11-15T06:36:20.788Z"
   },
   {
    "duration": 1056,
    "start_time": "2022-11-15T06:36:23.385Z"
   },
   {
    "duration": 129,
    "start_time": "2022-11-15T06:36:27.803Z"
   },
   {
    "duration": 4,
    "start_time": "2022-11-15T06:38:43.489Z"
   },
   {
    "duration": 11,
    "start_time": "2022-11-15T06:38:44.617Z"
   },
   {
    "duration": 216,
    "start_time": "2022-11-15T06:40:48.208Z"
   },
   {
    "duration": 294,
    "start_time": "2022-11-15T06:41:40.537Z"
   },
   {
    "duration": 269,
    "start_time": "2022-11-15T06:42:36.498Z"
   },
   {
    "duration": 46,
    "start_time": "2022-11-15T07:10:17.102Z"
   },
   {
    "duration": 29,
    "start_time": "2022-11-15T07:10:45.376Z"
   },
   {
    "duration": 538,
    "start_time": "2022-11-15T07:13:15.594Z"
   },
   {
    "duration": 38,
    "start_time": "2022-11-15T07:13:36.591Z"
   },
   {
    "duration": 8,
    "start_time": "2022-11-15T07:14:11.052Z"
   },
   {
    "duration": 222,
    "start_time": "2022-11-15T07:14:34.554Z"
   },
   {
    "duration": 8,
    "start_time": "2022-11-15T07:14:48.490Z"
   },
   {
    "duration": 203,
    "start_time": "2022-11-15T07:14:53.110Z"
   },
   {
    "duration": 218,
    "start_time": "2022-11-15T07:15:07.031Z"
   },
   {
    "duration": 220,
    "start_time": "2022-11-15T07:15:22.283Z"
   },
   {
    "duration": 268,
    "start_time": "2022-11-15T07:15:55.639Z"
   },
   {
    "duration": 67,
    "start_time": "2022-11-15T07:20:46.247Z"
   },
   {
    "duration": 29,
    "start_time": "2022-11-15T07:20:59.272Z"
   },
   {
    "duration": 224,
    "start_time": "2022-11-15T07:22:51.198Z"
   },
   {
    "duration": 1097,
    "start_time": "2022-11-15T07:25:57.014Z"
   },
   {
    "duration": 226,
    "start_time": "2022-11-15T07:27:51.816Z"
   },
   {
    "duration": 1208,
    "start_time": "2022-11-15T07:28:32.715Z"
   },
   {
    "duration": 1157,
    "start_time": "2022-11-15T07:28:57.063Z"
   },
   {
    "duration": 4,
    "start_time": "2022-11-15T07:29:55.745Z"
   },
   {
    "duration": 1282,
    "start_time": "2022-11-15T07:30:03.384Z"
   },
   {
    "duration": 1106,
    "start_time": "2022-11-15T07:30:45.144Z"
   },
   {
    "duration": 182,
    "start_time": "2022-11-15T07:31:23.899Z"
   },
   {
    "duration": 1237,
    "start_time": "2022-11-15T07:34:14.750Z"
   },
   {
    "duration": 1076,
    "start_time": "2022-11-15T07:35:16.747Z"
   },
   {
    "duration": 10,
    "start_time": "2022-11-15T07:36:16.076Z"
   },
   {
    "duration": 0,
    "start_time": "2022-11-15T07:38:08.636Z"
   },
   {
    "duration": 14,
    "start_time": "2022-11-15T07:40:19.116Z"
   },
   {
    "duration": 9,
    "start_time": "2022-11-15T07:41:20.546Z"
   },
   {
    "duration": 9,
    "start_time": "2022-11-15T07:41:29.964Z"
   },
   {
    "duration": 1130,
    "start_time": "2022-11-15T07:42:07.559Z"
   },
   {
    "duration": 55,
    "start_time": "2022-11-15T07:42:08.691Z"
   },
   {
    "duration": 4,
    "start_time": "2022-11-15T07:42:08.748Z"
   },
   {
    "duration": 47,
    "start_time": "2022-11-15T07:42:08.753Z"
   },
   {
    "duration": 58,
    "start_time": "2022-11-15T07:42:08.801Z"
   },
   {
    "duration": 10,
    "start_time": "2022-11-15T07:42:08.862Z"
   },
   {
    "duration": 20,
    "start_time": "2022-11-15T07:42:08.873Z"
   },
   {
    "duration": 133,
    "start_time": "2022-11-15T07:42:08.895Z"
   },
   {
    "duration": 5,
    "start_time": "2022-11-15T07:42:09.029Z"
   },
   {
    "duration": 151,
    "start_time": "2022-11-15T07:42:09.035Z"
   },
   {
    "duration": 4,
    "start_time": "2022-11-15T07:42:09.187Z"
   },
   {
    "duration": 37,
    "start_time": "2022-11-15T07:42:09.192Z"
   },
   {
    "duration": 18808,
    "start_time": "2022-11-15T07:42:09.230Z"
   },
   {
    "duration": 43,
    "start_time": "2022-11-15T07:43:16.462Z"
   },
   {
    "duration": 190,
    "start_time": "2022-11-15T07:43:21.773Z"
   },
   {
    "duration": 39,
    "start_time": "2022-11-15T07:43:54.743Z"
   },
   {
    "duration": 9,
    "start_time": "2022-11-15T07:44:24.353Z"
   },
   {
    "duration": 9,
    "start_time": "2022-11-15T07:45:39.533Z"
   },
   {
    "duration": 532,
    "start_time": "2022-11-15T07:47:40.553Z"
   },
   {
    "duration": 8374,
    "start_time": "2022-11-15T07:48:25.472Z"
   },
   {
    "duration": 497,
    "start_time": "2022-11-15T07:48:47.065Z"
   },
   {
    "duration": 517,
    "start_time": "2022-11-15T07:51:13.624Z"
   },
   {
    "duration": 390,
    "start_time": "2022-11-15T07:52:34.093Z"
   },
   {
    "duration": 504,
    "start_time": "2022-11-15T07:52:37.866Z"
   },
   {
    "duration": 499,
    "start_time": "2022-11-15T07:52:45.821Z"
   },
   {
    "duration": 537,
    "start_time": "2022-11-15T07:52:51.045Z"
   },
   {
    "duration": 530,
    "start_time": "2022-11-15T07:52:57.221Z"
   },
   {
    "duration": 14,
    "start_time": "2022-11-15T07:53:12.036Z"
   },
   {
    "duration": 1717,
    "start_time": "2022-11-15T07:53:17.051Z"
   },
   {
    "duration": 475,
    "start_time": "2022-11-15T07:53:50.104Z"
   },
   {
    "duration": 524,
    "start_time": "2022-11-15T07:54:00.610Z"
   },
   {
    "duration": 10,
    "start_time": "2022-11-15T07:54:49.599Z"
   },
   {
    "duration": 9,
    "start_time": "2022-11-15T07:55:05.789Z"
   },
   {
    "duration": 7,
    "start_time": "2022-11-15T07:55:19.355Z"
   },
   {
    "duration": 22,
    "start_time": "2022-11-15T07:55:44.741Z"
   },
   {
    "duration": 7,
    "start_time": "2022-11-15T07:57:30.601Z"
   },
   {
    "duration": 10,
    "start_time": "2022-11-15T07:57:49.225Z"
   },
   {
    "duration": 11,
    "start_time": "2022-11-15T07:57:58.149Z"
   },
   {
    "duration": 6,
    "start_time": "2022-11-15T07:58:16.608Z"
   },
   {
    "duration": 9,
    "start_time": "2022-11-15T08:02:18.346Z"
   },
   {
    "duration": 10,
    "start_time": "2022-11-15T08:02:22.158Z"
   },
   {
    "duration": 11,
    "start_time": "2022-11-15T08:03:11.495Z"
   },
   {
    "duration": 11,
    "start_time": "2022-11-15T08:03:22.103Z"
   },
   {
    "duration": 218,
    "start_time": "2022-11-15T08:05:56.767Z"
   },
   {
    "duration": 23,
    "start_time": "2022-11-15T08:07:04.244Z"
   },
   {
    "duration": 535,
    "start_time": "2022-11-15T08:08:37.181Z"
   },
   {
    "duration": 576,
    "start_time": "2022-11-15T08:08:43.164Z"
   },
   {
    "duration": 552,
    "start_time": "2022-11-15T08:09:04.906Z"
   },
   {
    "duration": 17,
    "start_time": "2022-11-15T08:09:12.301Z"
   },
   {
    "duration": 438,
    "start_time": "2022-11-15T08:09:19.878Z"
   },
   {
    "duration": 479,
    "start_time": "2022-11-15T08:09:32.473Z"
   },
   {
    "duration": 539,
    "start_time": "2022-11-15T08:09:50.989Z"
   },
   {
    "duration": 500,
    "start_time": "2022-11-15T08:10:29.580Z"
   },
   {
    "duration": 523,
    "start_time": "2022-11-15T08:10:42.248Z"
   },
   {
    "duration": 504,
    "start_time": "2022-11-15T08:11:15.454Z"
   },
   {
    "duration": 598,
    "start_time": "2022-11-15T08:11:45.775Z"
   },
   {
    "duration": 460,
    "start_time": "2022-11-15T08:12:33.916Z"
   },
   {
    "duration": 480,
    "start_time": "2022-11-15T08:12:57.869Z"
   },
   {
    "duration": 10,
    "start_time": "2022-11-15T08:13:12.640Z"
   },
   {
    "duration": 10,
    "start_time": "2022-11-15T08:13:39.216Z"
   },
   {
    "duration": 11,
    "start_time": "2022-11-15T08:14:58.370Z"
   },
   {
    "duration": 3,
    "start_time": "2022-11-15T08:15:18.199Z"
   },
   {
    "duration": 53,
    "start_time": "2022-11-15T08:15:22.126Z"
   },
   {
    "duration": 11,
    "start_time": "2022-11-15T08:15:41.477Z"
   },
   {
    "duration": 14,
    "start_time": "2022-11-15T08:15:59.956Z"
   },
   {
    "duration": 11,
    "start_time": "2022-11-15T08:16:16.586Z"
   },
   {
    "duration": 16,
    "start_time": "2022-11-15T08:17:24.464Z"
   },
   {
    "duration": 22,
    "start_time": "2022-11-15T08:17:38.584Z"
   },
   {
    "duration": 24,
    "start_time": "2022-11-15T08:18:00.305Z"
   },
   {
    "duration": 27,
    "start_time": "2022-11-15T08:18:17.200Z"
   },
   {
    "duration": 12,
    "start_time": "2022-11-15T08:18:21.372Z"
   },
   {
    "duration": 39,
    "start_time": "2022-11-15T08:18:25.330Z"
   },
   {
    "duration": 26,
    "start_time": "2022-11-15T08:18:39.364Z"
   },
   {
    "duration": 15,
    "start_time": "2022-11-15T08:19:37.513Z"
   },
   {
    "duration": 26,
    "start_time": "2022-11-15T08:19:48.447Z"
   },
   {
    "duration": 23,
    "start_time": "2022-11-15T08:19:58.190Z"
   },
   {
    "duration": 23,
    "start_time": "2022-11-15T08:20:06.173Z"
   },
   {
    "duration": 24,
    "start_time": "2022-11-15T08:20:15.371Z"
   },
   {
    "duration": 23,
    "start_time": "2022-11-15T08:20:28.849Z"
   },
   {
    "duration": 26,
    "start_time": "2022-11-15T08:20:33.222Z"
   },
   {
    "duration": 15,
    "start_time": "2022-11-15T08:22:35.760Z"
   },
   {
    "duration": 16,
    "start_time": "2022-11-15T08:22:40.654Z"
   },
   {
    "duration": 701,
    "start_time": "2022-11-15T08:22:46.870Z"
   },
   {
    "duration": 542,
    "start_time": "2022-11-15T08:23:06.608Z"
   },
   {
    "duration": 536,
    "start_time": "2022-11-15T08:24:50.142Z"
   },
   {
    "duration": 539,
    "start_time": "2022-11-15T08:27:28.989Z"
   },
   {
    "duration": 640,
    "start_time": "2022-11-15T08:27:43.409Z"
   },
   {
    "duration": 140,
    "start_time": "2022-11-15T08:33:05.220Z"
   },
   {
    "duration": 107,
    "start_time": "2022-11-15T08:33:16.448Z"
   },
   {
    "duration": 556,
    "start_time": "2022-11-15T08:33:22.483Z"
   },
   {
    "duration": 572,
    "start_time": "2022-11-15T08:33:35.234Z"
   },
   {
    "duration": 564,
    "start_time": "2022-11-15T08:33:55.138Z"
   },
   {
    "duration": 540,
    "start_time": "2022-11-15T08:34:00.117Z"
   },
   {
    "duration": 532,
    "start_time": "2022-11-15T08:34:31.419Z"
   },
   {
    "duration": 10,
    "start_time": "2022-11-15T11:12:35.724Z"
   },
   {
    "duration": 15,
    "start_time": "2022-11-15T11:12:53.005Z"
   },
   {
    "duration": 18,
    "start_time": "2022-11-15T11:13:06.948Z"
   },
   {
    "duration": 16,
    "start_time": "2022-11-15T11:13:52.636Z"
   },
   {
    "duration": 5,
    "start_time": "2022-11-15T11:14:19.749Z"
   },
   {
    "duration": 5,
    "start_time": "2022-11-15T11:14:24.275Z"
   },
   {
    "duration": 5,
    "start_time": "2022-11-15T11:14:30.237Z"
   },
   {
    "duration": 5,
    "start_time": "2022-11-15T11:15:08.424Z"
   },
   {
    "duration": 7,
    "start_time": "2022-11-15T11:15:09.452Z"
   },
   {
    "duration": 6,
    "start_time": "2022-11-15T11:15:20.338Z"
   },
   {
    "duration": 8,
    "start_time": "2022-11-15T11:15:21.430Z"
   },
   {
    "duration": 12,
    "start_time": "2022-11-15T11:16:50.207Z"
   },
   {
    "duration": 14,
    "start_time": "2022-11-15T11:16:51.293Z"
   },
   {
    "duration": 11,
    "start_time": "2022-11-15T11:19:15.901Z"
   },
   {
    "duration": 11,
    "start_time": "2022-11-15T11:19:25.862Z"
   },
   {
    "duration": 12,
    "start_time": "2022-11-15T11:20:50.573Z"
   },
   {
    "duration": 46,
    "start_time": "2022-11-15T11:20:55.505Z"
   },
   {
    "duration": 16,
    "start_time": "2022-11-15T11:20:59.337Z"
   },
   {
    "duration": 11,
    "start_time": "2022-11-15T11:21:09.783Z"
   },
   {
    "duration": 24,
    "start_time": "2022-11-15T11:21:13.748Z"
   },
   {
    "duration": 34,
    "start_time": "2022-11-15T11:21:52.005Z"
   },
   {
    "duration": 11,
    "start_time": "2022-11-15T11:23:06.946Z"
   },
   {
    "duration": 10,
    "start_time": "2022-11-15T11:23:10.897Z"
   },
   {
    "duration": 13,
    "start_time": "2022-11-15T11:26:20.496Z"
   },
   {
    "duration": 354,
    "start_time": "2022-11-15T11:26:56.200Z"
   },
   {
    "duration": 5,
    "start_time": "2022-11-15T11:27:40.104Z"
   },
   {
    "duration": 21,
    "start_time": "2022-11-15T11:27:46.157Z"
   },
   {
    "duration": 4,
    "start_time": "2022-11-15T11:28:21.110Z"
   },
   {
    "duration": 4,
    "start_time": "2022-11-15T11:28:31.342Z"
   },
   {
    "duration": 5,
    "start_time": "2022-11-15T11:28:38.894Z"
   },
   {
    "duration": 9,
    "start_time": "2022-11-15T12:20:26.501Z"
   },
   {
    "duration": 11,
    "start_time": "2022-11-15T12:21:23.337Z"
   },
   {
    "duration": 4,
    "start_time": "2022-11-15T12:21:25.087Z"
   },
   {
    "duration": 4,
    "start_time": "2022-11-15T12:21:28.068Z"
   },
   {
    "duration": 3,
    "start_time": "2022-11-15T12:21:29.332Z"
   },
   {
    "duration": 22,
    "start_time": "2022-11-15T12:21:48.907Z"
   },
   {
    "duration": 3,
    "start_time": "2022-11-15T12:21:52.768Z"
   },
   {
    "duration": 11,
    "start_time": "2022-11-15T12:22:42.081Z"
   },
   {
    "duration": 4,
    "start_time": "2022-11-15T12:22:42.884Z"
   },
   {
    "duration": 5,
    "start_time": "2022-11-15T12:22:43.747Z"
   },
   {
    "duration": 4,
    "start_time": "2022-11-15T12:22:48.978Z"
   },
   {
    "duration": 4,
    "start_time": "2022-11-15T12:22:52.522Z"
   },
   {
    "duration": 73,
    "start_time": "2022-11-15T13:11:31.575Z"
   },
   {
    "duration": 1700,
    "start_time": "2022-11-15T13:12:01.146Z"
   },
   {
    "duration": 6,
    "start_time": "2022-11-15T13:12:06.495Z"
   },
   {
    "duration": 218,
    "start_time": "2022-11-15T13:12:06.503Z"
   },
   {
    "duration": 4,
    "start_time": "2022-11-15T13:12:06.724Z"
   },
   {
    "duration": 38,
    "start_time": "2022-11-15T13:12:06.729Z"
   },
   {
    "duration": 46,
    "start_time": "2022-11-15T13:12:06.769Z"
   },
   {
    "duration": 32,
    "start_time": "2022-11-15T13:12:06.817Z"
   },
   {
    "duration": 46,
    "start_time": "2022-11-15T13:12:06.851Z"
   },
   {
    "duration": 191,
    "start_time": "2022-11-15T13:12:06.899Z"
   },
   {
    "duration": 6,
    "start_time": "2022-11-15T13:12:07.092Z"
   },
   {
    "duration": 178,
    "start_time": "2022-11-15T13:12:07.100Z"
   },
   {
    "duration": 5,
    "start_time": "2022-11-15T13:12:07.282Z"
   },
   {
    "duration": 50,
    "start_time": "2022-11-15T13:12:07.289Z"
   },
   {
    "duration": 74,
    "start_time": "2022-11-15T13:12:07.341Z"
   },
   {
    "duration": 768,
    "start_time": "2022-11-15T13:12:07.418Z"
   },
   {
    "duration": 13,
    "start_time": "2022-11-15T13:12:08.188Z"
   },
   {
    "duration": 29,
    "start_time": "2022-11-15T13:12:08.203Z"
   },
   {
    "duration": 15,
    "start_time": "2022-11-15T13:12:08.234Z"
   },
   {
    "duration": 5,
    "start_time": "2022-11-15T13:12:08.251Z"
   },
   {
    "duration": 12,
    "start_time": "2022-11-15T13:12:08.258Z"
   },
   {
    "duration": 96,
    "start_time": "2022-11-15T13:12:08.272Z"
   },
   {
    "duration": 27,
    "start_time": "2022-11-15T13:12:28.746Z"
   },
   {
    "duration": 38,
    "start_time": "2022-11-15T13:13:29.513Z"
   },
   {
    "duration": 3,
    "start_time": "2022-11-15T13:14:49.842Z"
   },
   {
    "duration": 3,
    "start_time": "2022-11-15T13:15:05.441Z"
   },
   {
    "duration": 29,
    "start_time": "2022-11-15T13:15:13.209Z"
   },
   {
    "duration": 25,
    "start_time": "2022-11-15T13:15:35.512Z"
   },
   {
    "duration": 24,
    "start_time": "2022-11-15T13:15:43.738Z"
   },
   {
    "duration": 95,
    "start_time": "2022-11-16T13:43:11.524Z"
   },
   {
    "duration": 1751,
    "start_time": "2022-11-16T13:43:17.700Z"
   },
   {
    "duration": 197,
    "start_time": "2022-11-16T13:43:19.454Z"
   },
   {
    "duration": 3,
    "start_time": "2022-11-16T13:43:19.653Z"
   },
   {
    "duration": 21,
    "start_time": "2022-11-16T13:43:19.658Z"
   },
   {
    "duration": 49,
    "start_time": "2022-11-16T13:43:19.681Z"
   },
   {
    "duration": 11,
    "start_time": "2022-11-16T13:43:19.732Z"
   },
   {
    "duration": 20,
    "start_time": "2022-11-16T13:43:19.744Z"
   },
   {
    "duration": 146,
    "start_time": "2022-11-16T13:43:19.766Z"
   },
   {
    "duration": 4,
    "start_time": "2022-11-16T13:43:19.914Z"
   },
   {
    "duration": 137,
    "start_time": "2022-11-16T13:43:19.920Z"
   },
   {
    "duration": 5,
    "start_time": "2022-11-16T13:43:20.059Z"
   },
   {
    "duration": 24,
    "start_time": "2022-11-16T13:43:20.066Z"
   },
   {
    "duration": 37,
    "start_time": "2022-11-16T13:43:20.092Z"
   },
   {
    "duration": 721,
    "start_time": "2022-11-16T13:43:20.131Z"
   },
   {
    "duration": 11,
    "start_time": "2022-11-16T13:43:20.854Z"
   },
   {
    "duration": 20,
    "start_time": "2022-11-16T13:43:20.867Z"
   },
   {
    "duration": 26,
    "start_time": "2022-11-16T13:43:20.888Z"
   },
   {
    "duration": 14,
    "start_time": "2022-11-16T13:43:20.916Z"
   },
   {
    "duration": 7,
    "start_time": "2022-11-16T13:43:20.932Z"
   },
   {
    "duration": 13,
    "start_time": "2022-11-16T13:43:20.940Z"
   },
   {
    "duration": 11,
    "start_time": "2022-11-16T13:43:20.954Z"
   },
   {
    "duration": 49,
    "start_time": "2022-11-16T13:43:20.967Z"
   },
   {
    "duration": 9,
    "start_time": "2022-11-16T13:43:21.018Z"
   },
   {
    "duration": 583,
    "start_time": "2022-11-16T13:43:21.029Z"
   },
   {
    "duration": 399,
    "start_time": "2022-11-16T13:43:21.614Z"
   },
   {
    "duration": 4,
    "start_time": "2022-11-16T13:43:22.015Z"
   },
   {
    "duration": 8,
    "start_time": "2022-11-16T13:43:22.021Z"
   },
   {
    "duration": 17,
    "start_time": "2022-11-16T13:43:22.034Z"
   },
   {
    "duration": 5489,
    "start_time": "2022-11-16T13:43:22.053Z"
   },
   {
    "duration": 4,
    "start_time": "2022-11-16T13:43:27.544Z"
   },
   {
    "duration": 15,
    "start_time": "2022-11-16T13:43:27.550Z"
   },
   {
    "duration": 221,
    "start_time": "2022-11-16T13:43:27.567Z"
   },
   {
    "duration": 13,
    "start_time": "2022-11-16T13:43:27.790Z"
   },
   {
    "duration": 104,
    "start_time": "2022-11-16T13:43:27.813Z"
   },
   {
    "duration": 417,
    "start_time": "2022-11-16T13:43:27.919Z"
   },
   {
    "duration": 4,
    "start_time": "2022-11-16T13:43:28.338Z"
   },
   {
    "duration": 10,
    "start_time": "2022-11-16T13:43:28.344Z"
   },
   {
    "duration": 17,
    "start_time": "2022-11-16T13:43:28.356Z"
   },
   {
    "duration": 3453,
    "start_time": "2022-11-16T13:43:28.375Z"
   },
   {
    "duration": 6,
    "start_time": "2022-11-16T13:43:31.830Z"
   },
   {
    "duration": 41,
    "start_time": "2022-11-16T13:43:31.837Z"
   },
   {
    "duration": 170,
    "start_time": "2022-11-16T13:43:31.880Z"
   },
   {
    "duration": 19,
    "start_time": "2022-11-16T13:43:32.052Z"
   },
   {
    "duration": 241,
    "start_time": "2022-11-16T13:43:32.073Z"
   },
   {
    "duration": 561,
    "start_time": "2022-11-16T13:43:32.316Z"
   },
   {
    "duration": 4,
    "start_time": "2022-11-16T13:43:32.879Z"
   },
   {
    "duration": 20,
    "start_time": "2022-11-16T13:43:32.885Z"
   },
   {
    "duration": 41,
    "start_time": "2022-11-16T13:43:32.908Z"
   },
   {
    "duration": 7498,
    "start_time": "2022-11-16T13:43:32.952Z"
   },
   {
    "duration": 4,
    "start_time": "2022-11-16T13:43:40.452Z"
   },
   {
    "duration": 6,
    "start_time": "2022-11-16T13:43:40.458Z"
   },
   {
    "duration": 339,
    "start_time": "2022-11-16T13:43:40.466Z"
   },
   {
    "duration": 27,
    "start_time": "2022-11-16T13:43:40.807Z"
   },
   {
    "duration": 535,
    "start_time": "2022-11-16T13:43:40.836Z"
   },
   {
    "duration": 315,
    "start_time": "2022-11-16T13:43:47.012Z"
   },
   {
    "duration": 1461,
    "start_time": "2022-11-16T13:50:36.525Z"
   },
   {
    "duration": 63,
    "start_time": "2022-11-16T13:50:39.996Z"
   },
   {
    "duration": 3,
    "start_time": "2022-11-16T13:50:41.332Z"
   },
   {
    "duration": 14,
    "start_time": "2022-11-16T13:50:43.119Z"
   },
   {
    "duration": 47,
    "start_time": "2022-11-16T13:50:44.600Z"
   },
   {
    "duration": 12,
    "start_time": "2022-11-16T13:50:45.884Z"
   },
   {
    "duration": 11,
    "start_time": "2022-11-16T13:50:47.982Z"
   },
   {
    "duration": 141,
    "start_time": "2022-11-16T13:50:50.481Z"
   },
   {
    "duration": 6,
    "start_time": "2022-11-16T13:50:57.135Z"
   },
   {
    "duration": 133,
    "start_time": "2022-11-16T13:50:58.463Z"
   },
   {
    "duration": 5,
    "start_time": "2022-11-16T13:51:01.705Z"
   },
   {
    "duration": 19,
    "start_time": "2022-11-16T13:51:03.720Z"
   },
   {
    "duration": 30,
    "start_time": "2022-11-16T13:51:05.304Z"
   },
   {
    "duration": 715,
    "start_time": "2022-11-16T13:51:10.280Z"
   },
   {
    "duration": 11,
    "start_time": "2022-11-16T13:51:14.379Z"
   },
   {
    "duration": 14,
    "start_time": "2022-11-16T13:51:16.185Z"
   },
   {
    "duration": 13,
    "start_time": "2022-11-16T13:51:18.019Z"
   },
   {
    "duration": 17,
    "start_time": "2022-11-16T13:51:20.068Z"
   },
   {
    "duration": 4,
    "start_time": "2022-11-16T13:51:38.494Z"
   },
   {
    "duration": 5,
    "start_time": "2022-11-16T13:51:40.628Z"
   },
   {
    "duration": 4,
    "start_time": "2022-11-16T13:51:42.095Z"
   },
   {
    "duration": 30,
    "start_time": "2022-11-16T13:51:44.102Z"
   },
   {
    "duration": 7,
    "start_time": "2022-11-16T13:51:47.384Z"
   },
   {
    "duration": 144,
    "start_time": "2022-11-16T13:51:50.376Z"
   },
   {
    "duration": 371,
    "start_time": "2022-11-16T13:51:54.654Z"
   },
   {
    "duration": 4,
    "start_time": "2022-11-16T13:54:55.558Z"
   },
   {
    "duration": 4,
    "start_time": "2022-11-16T13:54:57.752Z"
   },
   {
    "duration": 18,
    "start_time": "2022-11-16T13:55:00.257Z"
   },
   {
    "duration": 5607,
    "start_time": "2022-11-16T13:55:05.010Z"
   },
   {
    "duration": 4,
    "start_time": "2022-11-16T13:58:17.072Z"
   },
   {
    "duration": 4,
    "start_time": "2022-11-16T13:58:18.986Z"
   },
   {
    "duration": 184,
    "start_time": "2022-11-16T13:58:41.684Z"
   },
   {
    "duration": 13,
    "start_time": "2022-11-16T13:59:30.790Z"
   },
   {
    "duration": 23,
    "start_time": "2022-11-16T13:59:37.995Z"
   },
   {
    "duration": 243,
    "start_time": "2022-11-16T13:59:39.781Z"
   },
   {
    "duration": 4,
    "start_time": "2022-11-16T13:59:47.652Z"
   },
   {
    "duration": 4,
    "start_time": "2022-11-16T13:59:48.736Z"
   },
   {
    "duration": 14,
    "start_time": "2022-11-16T13:59:49.807Z"
   },
   {
    "duration": 3526,
    "start_time": "2022-11-16T13:59:52.971Z"
   },
   {
    "duration": 4,
    "start_time": "2022-11-16T13:59:58.093Z"
   },
   {
    "duration": 5,
    "start_time": "2022-11-16T14:00:02.122Z"
   },
   {
    "duration": 147,
    "start_time": "2022-11-16T14:00:05.998Z"
   },
   {
    "duration": 15,
    "start_time": "2022-11-16T14:00:10.287Z"
   },
   {
    "duration": 122,
    "start_time": "2022-11-16T14:00:21.294Z"
   },
   {
    "duration": 491,
    "start_time": "2022-11-16T14:00:24.433Z"
   },
   {
    "duration": 4,
    "start_time": "2022-11-16T14:00:27.682Z"
   },
   {
    "duration": 4,
    "start_time": "2022-11-16T14:00:29.055Z"
   },
   {
    "duration": 37,
    "start_time": "2022-11-16T14:00:30.217Z"
   },
   {
    "duration": 7605,
    "start_time": "2022-11-16T14:00:34.058Z"
   },
   {
    "duration": 4,
    "start_time": "2022-11-16T14:00:47.096Z"
   },
   {
    "duration": 4,
    "start_time": "2022-11-16T14:00:48.685Z"
   },
   {
    "duration": 336,
    "start_time": "2022-11-16T14:00:52.211Z"
   },
   {
    "duration": 28,
    "start_time": "2022-11-16T14:01:30.168Z"
   },
   {
    "duration": 331,
    "start_time": "2022-11-16T14:01:33.968Z"
   }
  ],
  "kernelspec": {
   "display_name": "Python 3 (ipykernel)",
   "language": "python",
   "name": "python3"
  },
  "language_info": {
   "codemirror_mode": {
    "name": "ipython",
    "version": 3
   },
   "file_extension": ".py",
   "mimetype": "text/x-python",
   "name": "python",
   "nbconvert_exporter": "python",
   "pygments_lexer": "ipython3",
   "version": "3.9.13"
  },
  "toc": {
   "base_numbering": 1,
   "nav_menu": {},
   "number_sections": true,
   "sideBar": true,
   "skip_h1_title": true,
   "title_cell": "Содержание",
   "title_sidebar": "Contents",
   "toc_cell": true,
   "toc_position": {},
   "toc_section_display": true,
   "toc_window_display": false
  }
 },
 "nbformat": 4,
 "nbformat_minor": 4
}
